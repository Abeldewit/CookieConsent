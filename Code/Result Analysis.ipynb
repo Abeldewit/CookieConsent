{
 "cells": [
  {
   "cell_type": "markdown",
   "metadata": {},
   "source": [
    "# Result analysis of the web crawler\n",
    "\n",
    "In this notebook, the dataframe filled with the cookies that were scraped using the webcrawler is analysed to gather what kind of information is saved by webpages upon arrival and after accepting the cookies. \n",
    "\n",
    "\n",
    "### Importing packages and the dataframe"
   ]
  },
  {
   "cell_type": "code",
   "execution_count": 1,
   "metadata": {},
   "outputs": [],
   "source": [
    "from tqdm.notebook import tqdm\n",
    "import numpy as np\n",
    "import pandas as pd\n",
    "import seaborn as sns\n",
    "from matplotlib import pyplot as plt\n",
    "import ast\n",
    "import urllib.request\n",
    "import requests\n",
    "import re\n",
    "\n",
    "df = pd.read_csv('assets/DataFrame.csv', converters={\"Host\": ast.literal_eval,\n",
    "                                                     \"cookie_first\": ast.literal_eval,\n",
    "                                                     \"cookie_second\": ast.literal_eval\n",
    "                                                     })"
   ]
  },
  {
   "cell_type": "markdown",
   "metadata": {},
   "source": [
    "### Some statistics about the amount of websites"
   ]
  },
  {
   "cell_type": "code",
   "execution_count": 2,
   "metadata": {},
   "outputs": [
    {
     "name": "stdout",
     "output_type": "stream",
     "text": [
      "{'arrival': 6765, 'accepted': 3837, 'both': 3691}\n",
      "146\n"
     ]
    },
    {
     "data": {
      "image/png": "[encoded data removed]",
      "text/plain": [
       "<Figure size 432x288 with 1 Axes>"
      ]
     },
     "metadata": {
      "needs_background": "light"
     },
     "output_type": "display_data"
    }
   ],
   "source": [
    "count = {'arrival': 0, 'accepted': 0, 'both': 0}\n",
    "\n",
    "for index, row in df.iterrows():\n",
    "    if (len(row['cookie_first']) > 0) & (len(row['cookie_second']) > 0):\n",
    "        count['both'] += 1\n",
    "    if len(row['cookie_first']) > 0:\n",
    "        count['arrival'] += 1\n",
    "    if len(row['cookie_second']) > 0:\n",
    "        count['accepted'] += 1\n",
    "\n",
    "sns.barplot(x=list(count.keys()), y=list(count.values()))\n",
    "print(count)\n",
    "print(count['accepted']-count['both'])\n"
   ]
  },
  {
   "cell_type": "markdown",
   "metadata": {},
   "source": [
    "So far we see that **7350** websites created a cookie upon visiting, for **3436** websites, the crawler found a website and was able to accept the cookies, and lastly for **3123** websites both cookies were saved. This means that **313** websites that did save after confirmation did not make a cookie at first."
   ]
  },
  {
   "cell_type": "code",
   "execution_count": 3,
   "metadata": {},
   "outputs": [
    {
     "name": "stdout",
     "output_type": "stream",
     "text": [
      "nan 0\n",
      "Unknown 228\n",
      "OneTrust 294\n",
      "Cybot 57\n",
      "TrustArc 39\n",
      "total 618\n"
     ]
    }
   ],
   "source": [
    "total = 0\n",
    "for name in df['banner_provider'].unique():\n",
    "    tmp = len(df[df['banner_provider'] == name])\n",
    "    total += tmp\n",
    "    print(name, tmp)\n",
    "print('total', total)"
   ]
  },
  {
   "cell_type": "code",
   "execution_count": 4,
   "metadata": {},
   "outputs": [
    {
     "data": {
      "text/plain": [
       "228"
      ]
     },
     "execution_count": 4,
     "metadata": {},
     "output_type": "execute_result"
    }
   ],
   "source": [
    "len(df[(df['options_available'] == True) & (df['banner_provider'] == 'Unknown')])"
   ]
  },
  {
   "cell_type": "markdown",
   "metadata": {},
   "source": [
    "### Visiting cookie analysis"
   ]
  },
  {
   "cell_type": "code",
   "execution_count": 5,
   "metadata": {},
   "outputs": [],
   "source": [
    "# Some functions that help to explore the list of cookies fast\n",
    "def print_cookies(this_df):\n",
    "    for index, row in this_df.iterrows():\n",
    "        cookie = row['cookie_first'][0]\n",
    "        print(row['Website'])\n",
    "        for key, value in cookie.items():\n",
    "            print(key, '=', value)\n",
    "        print('')\n",
    "        \n",
    "def get_names(this_df, c):\n",
    "    unique_names = []\n",
    "\n",
    "    for index, row in this_df.iterrows():\n",
    "        if c == 1:\n",
    "            cookie = row['cookie_first'][0]\n",
    "        if c == 2:\n",
    "            cookie = row['cookie_second'][0]\n",
    "        if cookie == None:\n",
    "            continue\n",
    "        for key, value in cookie.items():\n",
    "            if key == 'name':\n",
    "                if value not in unique_names:\n",
    "                    unique_names.append(value)\n",
    "    return unique_names"
   ]
  },
  {
   "cell_type": "code",
   "execution_count": 6,
   "metadata": {},
   "outputs": [],
   "source": [
    "a_df = df[df['cookie_first'].apply(lambda x: len(x) > 0)]\n",
    "\n",
    "# print_cookies(a_df)"
   ]
  },
  {
   "cell_type": "code",
   "execution_count": 7,
   "metadata": {},
   "outputs": [
    {
     "name": "stdout",
     "output_type": "stream",
     "text": [
      "Found 2565 unique cookie names\n"
     ]
    }
   ],
   "source": [
    "names = get_names(a_df, 1)\n",
    "print(\"Found {} unique cookie names\".format(len(names)))"
   ]
  },
  {
   "cell_type": "markdown",
   "metadata": {},
   "source": [
    "So now we have an overview of the cookies and their 'unique' names. Let's see if we can filter out some keywords like _'gtag', 'session', 'geo', 'fbp', 'id', 'gdpr', 'consent'_"
   ]
  },
  {
   "cell_type": "code",
   "execution_count": 8,
   "metadata": {
    "scrolled": true
   },
   "outputs": [
    {
     "name": "stdout",
     "output_type": "stream",
     "text": [
      "gtag : 296\n",
      "gat : 1316\n",
      "_ga : 1522\n",
      "gtm : 104\n",
      "__auc : 33\n",
      "session : 247\n",
      "geo : 30\n",
      "fbp : 475\n",
      "id : 1610\n",
      "gdpr : 5\n",
      "consent : 127\n",
      "cookie : 66\n",
      "1212\n"
     ]
    }
   ],
   "source": [
    "key_words = {\n",
    "    'gtag': [], # Google Tag\n",
    "    'gat': [], # Google Analytics\n",
    "    '_ga': [], # Google Analytics\n",
    "    'gtm': [], # Google Tag Manager\n",
    "    '__auc': [], # Targeting/Advertising \n",
    "    'session': [], \n",
    "    'geo': [], # Location\n",
    "    'fbp': [], # Facebook Pixel\n",
    "    'id': [], # Identifier\n",
    "    'gdpr': [], \n",
    "    'consent': [], \n",
    "    'cookie': []\n",
    "}\n",
    "\n",
    "\n",
    "no_id = []\n",
    "for index, row in a_df.iterrows():\n",
    "    cookie = row['cookie_first'][0]\n",
    "    for key, value in cookie.items():\n",
    "        if key == 'name':\n",
    "            found = False\n",
    "            for word in key_words.keys():\n",
    "                if word in value.lower():\n",
    "                    key_words[word].append(cookie)\n",
    "                    found = True\n",
    "                    continue\n",
    "            if not found:\n",
    "                no_id.append(value.lower())\n",
    "\n",
    "no_count = {}\n",
    "for name in no_id:\n",
    "    if name in no_count.keys():\n",
    "        no_count[name] += 1\n",
    "    else:\n",
    "        no_count[name] = 1\n",
    "                \n",
    "# Print the counts\n",
    "for key, value in key_words.items():\n",
    "    print(key, ':', len(key_words[key]))\n",
    "    \n",
    "no_count = {k: v for k, v in sorted(no_count.items(), key=lambda item: item[1], reverse=True)}\n",
    "print(len(no_count))"
   ]
  },
  {
   "cell_type": "code",
   "execution_count": 9,
   "metadata": {},
   "outputs": [],
   "source": [
    "def get_cookie_stats(url):\n",
    "    user_agent = 'Mozilla/5.0 (Windows; U; Windows NT 5.1; en-US; rv:1.9.0.7) Gecko/2009021910 Firefox/3.0.7'\n",
    "    headers={'User-Agent':user_agent,} \n",
    "    try:\n",
    "        request=urllib.request.Request(url,None,headers)\n",
    "        response = urllib.request.urlopen(request)\n",
    "        data = str(response.read())\n",
    "        if \"no matches\" in data:\n",
    "            return False\n",
    "        elif \"not yet any general information\" in data:\n",
    "            return False\n",
    "        else:\n",
    "            return data  \n",
    "    except Exception as e:\n",
    "        print(e)\n",
    "        return False  "
   ]
  },
  {
   "cell_type": "code",
   "execution_count": 10,
   "metadata": {},
   "outputs": [],
   "source": [
    "cookie_stats = pd.DataFrame(columns=['name', \n",
    "                                     'use', \n",
    "                                     'websites', \n",
    "                                     'hosts', \n",
    "                                     'first_party', \n",
    "                                     'third_party', \n",
    "                                     'persistent', \n",
    "                                     'life_span', \n",
    "                                     'session'])"
   ]
  },
  {
   "cell_type": "code",
   "execution_count": null,
   "metadata": {},
   "outputs": [
    {
     "data": {
      "application/vnd.jupyter.widget-view+json": {
       "model_id": "65009a6767e84b8f92f1b098fb58b0f5",
       "version_major": 2,
       "version_minor": 0
      },
      "text/plain": [
       "HBox(children=(FloatProgress(value=0.0, max=1212.0), HTML(value='')))"
      ]
     },
     "metadata": {},
     "output_type": "display_data"
    },
    {
     "name": "stdout",
     "output_type": "stream",
     "text": [
      "HTTP Error 404: Not Found\n"
     ]
    }
   ],
   "source": [
    "error_count = 0\n",
    "try:\n",
    "    for name in tqdm(no_count.keys()):\n",
    "        if name not in list(cookie_stats['name']):\n",
    "    #         print(name, end=': ')\n",
    "            url = 'https://cookiepedia.co.uk/cookies/' + name\n",
    "\n",
    "            data = get_cookie_stats(url)\n",
    "\n",
    "            if data == False:\n",
    "                error_count += 1\n",
    "                continue\n",
    "\n",
    "            ps = re.split('<p>|</p>', data)\n",
    "            matching = [p for p in ps if 'main purpose' in p]\n",
    "            usage = re.split('<strong>|</strong>', matching[0])[1]\n",
    "\n",
    "            stats = re.split('<div class=\"cookie-stats\">|</div>', data)[8]\n",
    "            stats = re.split('<span>|</span>', stats)\n",
    "\n",
    "            c_s = []\n",
    "            if len(stats) > 13:\n",
    "                c_s.append(name)\n",
    "                c_s.append(usage)\n",
    "                c_s.append(stats[1]) \n",
    "                c_s.append(stats[3])\n",
    "                c_s.append(stats[5])\n",
    "                c_s.append(stats[7])\n",
    "                c_s.append(stats[9])\n",
    "                c_s.append(stats[11])\n",
    "                c_s.append(stats[13])\n",
    "                cookie_stats.loc[len(cookie_stats)] = c_s\n",
    "            else:\n",
    "                print(\"not enough\", name)\n",
    "\n",
    "\n",
    "    #         print(usage)\n",
    "except KeyboardInterrupt:\n",
    "    print(\"Stopped Early\")"
   ]
  },
  {
   "cell_type": "code",
   "execution_count": null,
   "metadata": {},
   "outputs": [],
   "source": [
    "cookie_stats['use'].unique()"
   ]
  },
  {
   "cell_type": "code",
   "execution_count": null,
   "metadata": {},
   "outputs": [],
   "source": [
    "toplen = len(cookie_stats[cookie_stats['websites'] > 5000])\n",
    "top50 = cookie_stats.nlargest(toplen, 'websites')\n",
    "sns.barplot(x=top50['name'], y=top50['websites'])\n",
    "\n",
    "\n",
    "toplen"
   ]
  },
  {
   "cell_type": "code",
   "execution_count": null,
   "metadata": {},
   "outputs": [],
   "source": [
    "columns = ['websites', 'hosts', 'first_party', 'third_party',\n",
    "       'persistent', 'life_span', 'session']\n",
    "\n",
    "for c in columns:\n",
    "    if cookie_stats[c].dtype != 'int':\n",
    "        cookie_stats[c] = cookie_stats[c].apply(lambda x: x.replace(',', ''))\n",
    "        cookie_stats[c] = cookie_stats[c].astype('int')"
   ]
  },
  {
   "cell_type": "code",
   "execution_count": null,
   "metadata": {},
   "outputs": [],
   "source": [
    "import chart_studio.plotly as py\n",
    "import plotly.graph_objects as go\n",
    "import plotly\n",
    "plotly.offline.init_notebook_mode()\n",
    "\n",
    "import plotly.io as pio\n",
    "pio.templates\n",
    "\n",
    "import plotly.express as px\n",
    "\n",
    "\n",
    "for column in list(top50.columns[2:]):\n",
    "    top50 = cookie_stats.nlargest(25, column)\n",
    "    fig = px.bar(top50,\n",
    "                     x='name', y=column, color='use',\n",
    "                     template='ggplot2', title=\"Column '%s' cookies\" % column)\n",
    "    fig.show()\n"
   ]
  },
  {
   "cell_type": "markdown",
   "metadata": {},
   "source": [
    "### Accepted cookies"
   ]
  },
  {
   "cell_type": "code",
   "execution_count": null,
   "metadata": {},
   "outputs": [],
   "source": [
    "b_df = df[df['cookie_second'].apply(lambda x: len(x) > 0)]\n",
    "b_df = b_df[b_df['cookie_second'] != {'cookie': None}]\n",
    "second_names = get_names(b_df, 2)\n",
    "second_names = [n.lower() for n in second_names]"
   ]
  },
  {
   "cell_type": "code",
   "execution_count": null,
   "metadata": {},
   "outputs": [],
   "source": [
    "patterns = {}\n",
    "for name in second_names:\n",
    "    split = name.split('_')\n",
    "    if len(split) > 1:\n",
    "        p = split[0]\n",
    "        i = 0\n",
    "        while p == '':\n",
    "            i += 1\n",
    "            p = split[i]\n",
    "    else:\n",
    "        p = name\n",
    "    if p not in patterns.keys():\n",
    "        patterns[p] = 1\n",
    "    else:\n",
    "        patterns[p] += 1\n",
    "        \n",
    "patterns = {k: v for k, v in sorted(patterns.items(), key=lambda item: item[1], reverse=True)}\n",
    "common_names = [k for k,v in patterns.items() if v > 5]\n",
    "common_names"
   ]
  },
  {
   "cell_type": "code",
   "execution_count": null,
   "metadata": {},
   "outputs": [],
   "source": [
    "cookie_stats_2 = pd.DataFrame(columns=['name', \n",
    "                                     'use', \n",
    "                                     'websites', \n",
    "                                     'hosts', \n",
    "                                     'first_party', \n",
    "                                     'third_party', \n",
    "                                     'persistent', \n",
    "                                     'life_span', \n",
    "                                     'session'])"
   ]
  },
  {
   "cell_type": "code",
   "execution_count": null,
   "metadata": {
    "scrolled": true
   },
   "outputs": [],
   "source": [
    "s_df = df[df['click_found'] == True]\n",
    "error_count_2 = 0\n",
    "try:\n",
    "    for i in tqdm(range(len(s_df))):\n",
    "        row = s_df.iloc[i]\n",
    "        cookie = row['cookie_second']\n",
    "\n",
    "        if len(cookie) == 0:\n",
    "            continue\n",
    "        else:\n",
    "            cookie = cookie[0]\n",
    "            name = cookie['name']\n",
    "\n",
    "            for cn in common_names:\n",
    "                if name in cn:\n",
    "                        name = cn\n",
    "\n",
    "            if name in list(cookie_stats_2['name']):\n",
    "                continue\n",
    "\n",
    "            url = 'https://cookiepedia.co.uk/cookies/' + name\n",
    "\n",
    "            data = get_cookie_stats(url)\n",
    "\n",
    "            if data == False:\n",
    "                error_count_2 += 1\n",
    "                continue\n",
    "\n",
    "            ps = re.split('<p>|</p>', data)\n",
    "            matching = [p for p in ps if 'main purpose' in p]\n",
    "            usage = re.split('<strong>|</strong>', matching[0])[1]\n",
    "\n",
    "            if \"cookie-stats\" not in data:\n",
    "                continue\n",
    "\n",
    "            stats = re.split('<div class=\"cookie-stats\">|</div>', data)[8]\n",
    "            stats = re.split('<span>|</span>', stats)\n",
    "\n",
    "            for index in range(1,14,2):\n",
    "                try:\n",
    "                    stats[index] = int(stats[index].replace(',', ''))\n",
    "                except ValueError:\n",
    "                    print(name)\n",
    "                    continue\n",
    "\n",
    "            c_s = []\n",
    "            if len(stats) > 13:\n",
    "                c_s.append(name)\n",
    "                c_s.append(usage)\n",
    "                c_s.append(int(stats[1])) \n",
    "                c_s.append(int(stats[3]))\n",
    "                c_s.append(int(stats[5]))\n",
    "                c_s.append(int(stats[7]))\n",
    "                c_s.append(int(stats[9]))\n",
    "                c_s.append(int(stats[11]))\n",
    "                c_s.append(int(stats[13]))\n",
    "                cookie_stats_2.loc[len(cookie_stats_2)] = c_s\n",
    "            else:\n",
    "                print(\"not enough\", name)\n",
    "except KeyboardInterrupt:\n",
    "    print(\"Stopped Early\")"
   ]
  },
  {
   "cell_type": "code",
   "execution_count": null,
   "metadata": {},
   "outputs": [],
   "source": [
    "for c in list(cookie_stats_2.columns[2:]):\n",
    "    print(cookie_stats_2[c].dtype)"
   ]
  },
  {
   "cell_type": "code",
   "execution_count": null,
   "metadata": {},
   "outputs": [],
   "source": []
  },
  {
   "cell_type": "code",
   "execution_count": null,
   "metadata": {},
   "outputs": [],
   "source": []
  },
  {
   "cell_type": "code",
   "execution_count": null,
   "metadata": {},
   "outputs": [],
   "source": []
  }
 ],
 "metadata": {
  "kernelspec": {
   "display_name": "Python 3",
   "language": "python",
   "name": "python3"
  },
  "language_info": {
   "codemirror_mode": {
    "name": "ipython",
    "version": 3
   },
   "file_extension": ".py",
   "mimetype": "text/x-python",
   "name": "python",
   "nbconvert_exporter": "python",
   "pygments_lexer": "ipython3",
   "version": "3.7.4"
  }
 },
 "nbformat": 4,
 "nbformat_minor": 4
}
