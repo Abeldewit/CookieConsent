{
 "cells": [
  {
   "cell_type": "markdown",
   "metadata": {},
   "source": [
    "# Result analysis of the web crawler\n",
    "\n",
    "In this notebook, the dataframe filled with the cookies that were scraped using the webcrawler is analysed to gather what kind of information is saved by webpages upon arrival and after accepting the cookies. \n",
    "\n",
    "\n",
    "### Importing packages and the dataframe"
   ]
  },
  {
   "cell_type": "code",
   "execution_count": 1,
   "metadata": {},
   "outputs": [],
   "source": [
    "from tqdm.notebook import tqdm\n",
    "import numpy as np\n",
    "import pandas as pd\n",
    "import seaborn as sns\n",
    "from matplotlib import pyplot as plt\n",
    "import ast\n",
    "import urllib.request\n",
    "import requests\n",
    "import re\n",
    "\n",
    "df = pd.read_csv('assets/DataFrame.csv', converters={\"Host\": ast.literal_eval,\n",
    "                                                     \"cookie_first\": ast.literal_eval,\n",
    "                                                     \"cookie_second\": ast.literal_eval\n",
    "                                                     })"
   ]
  },
  {
   "cell_type": "markdown",
   "metadata": {},
   "source": [
    "### Some statistics about the amount of websites"
   ]
  },
  {
   "cell_type": "code",
   "execution_count": 2,
   "metadata": {},
   "outputs": [
    {
     "name": "stdout",
     "output_type": "stream",
     "text": [
      "{'arrival': 7350, 'accepted': 3436, 'both': 3123}\n",
      "313\n"
     ]
    },
    {
     "data": {
      "image/png": "[encoded data removed]",
      "text/plain": [
       "<Figure size 432x288 with 1 Axes>"
      ]
     },
     "metadata": {
      "needs_background": "light"
     },
     "output_type": "display_data"
    }
   ],
   "source": [
    "count = {'arrival': 0, 'accepted': 0, 'both': 0}\n",
    "\n",
    "for index, row in df.iterrows():\n",
    "    if (len(row['cookie_first']) > 0) & (len(row['cookie_second']) > 0):\n",
    "        count['both'] += 1\n",
    "    if len(row['cookie_first']) > 0:\n",
    "        count['arrival'] += 1\n",
    "    if len(row['cookie_second']) > 0:\n",
    "        count['accepted'] += 1\n",
    "\n",
    "sns.barplot(x=list(count.keys()), y=list(count.values()))\n",
    "print(count)\n",
    "print(count['accepted']-count['both'])\n"
   ]
  },
  {
   "cell_type": "markdown",
   "metadata": {},
   "source": [
    "So far we see that **7350** websites created a cookie upon visiting, for **3436** websites, the crawler found a website and was able to accept the cookies, and lastly for **3123** websites both cookies were saved. This means that **313** websites that did save after confirmation did not make a cookie at first.\n",
    "\n",
    "\n",
    "### Visiting cookie analysis"
   ]
  },
  {
   "cell_type": "code",
   "execution_count": 3,
   "metadata": {},
   "outputs": [],
   "source": [
    "# Some functions that help to explore the list of cookies fast\n",
    "def print_cookies(this_df):\n",
    "    for index, row in this_df.iterrows():\n",
    "        cookie = row['cookie_first'][0]\n",
    "        print(row['Website'])\n",
    "        for key, value in cookie.items():\n",
    "            print(key, '=', value)\n",
    "        print('')\n",
    "        \n",
    "def get_names(this_df, c):\n",
    "    unique_names = []\n",
    "\n",
    "    for index, row in this_df.iterrows():\n",
    "        if c == 1:\n",
    "            cookie = row['cookie_first'][0]\n",
    "        if c == 2:\n",
    "            cookie = row['cookie_second'][0]\n",
    "        for key, value in cookie.items():\n",
    "            if key == 'name':\n",
    "                if value not in unique_names:\n",
    "                    unique_names.append(value)\n",
    "    return unique_names"
   ]
  },
  {
   "cell_type": "code",
   "execution_count": 4,
   "metadata": {},
   "outputs": [],
   "source": [
    "a_df = df[df['cookie_first'].apply(lambda x: len(x) > 0)]\n",
    "\n",
    "# print_cookies(a_df)"
   ]
  },
  {
   "cell_type": "code",
   "execution_count": 7,
   "metadata": {},
   "outputs": [
    {
     "name": "stdout",
     "output_type": "stream",
     "text": [
      "Found 2991 unique cookie names\n"
     ]
    }
   ],
   "source": [
    "names = get_names(a_df, 1)\n",
    "print(\"Found {} unique cookie names\".format(len(names)))"
   ]
  },
  {
   "cell_type": "markdown",
   "metadata": {},
   "source": [
    "So now we have an overview of the cookies and their 'unique' names. Let's see if we can filter out some keywords like _'gtag', 'session', 'geo', 'fbp', 'id', 'gdpr', 'consent'_"
   ]
  },
  {
   "cell_type": "code",
   "execution_count": 9,
   "metadata": {
    "scrolled": true
   },
   "outputs": [
    {
     "name": "stdout",
     "output_type": "stream",
     "text": [
      "gtag : 47\n",
      "gat : 304\n",
      "_ga : 362\n",
      "gtm : 23\n",
      "__auc : 42\n",
      "session : 465\n",
      "geo : 57\n",
      "fbp : 445\n",
      "id : 2262\n",
      "gdpr : 18\n",
      "consent : 146\n",
      "cookie : 142\n",
      "{'has_js': 124, '1p_jar': 80, 'awsalbcors': 69, '_cmpqcif3pcsupported': 66, '_abck': 65, '___utmvc': 45, 'performance_timing': 44, 's_cc': 37, 's_ppv': 31, 'cf_use_ob': 30, 'aka_a2': 24, '__utmb': 23, '_omappvs': 23, 'arraffinity': 21, 'cf_ob_info': 21, 'notice_behavior': 20, '__cf_bm': 20, 'csrftoken': 18, 'dtpc': 18, '_awl': 18, 'be_cla3': 17, 'awselbcors': 14, 's_ptc': 13, 'mylo_status': 13, 'wss_fullscreenmode': 13, 'pll_language': 13, 'mbox': 12, '_lichk': 12, '_gcl_au': 12, '__asc': 12, 'awsalb': 12, 'xsrf-token': 12, 'language': 11, 'usprivacy': 11, 'cf_chl_1': 11, 'lang': 11, 'rxvt': 10, '_sp_v1_lt': 10, 'mboxedgecluster': 10, '_pxff_fp': 9, 's_sess': 9, '_pxhd': 9, 'locale': 9, 'awselb': 9, 's_tp': 8, 's_vi': 8, '_pin_unauth': 8, 'ki_r': 8, '_omappvp': 8, '_ym_hostindex': 8, '__requestverificationtoken': 8, 'ccpa_applies': 7, '_admrla': 7, 'reese84': 7, '_ym_isad': 7, 'liveagent_vc': 7, 'cftoken': 7, '__utmz': 7, '_cb_svref': 7, 'snapabugvisit': 7, 's_ppvl': 7, 'ezouspva': 7, '_shopify_sa_p': 7, 'b': 7, '_crm_labels': 7, 'msfpc': 6, 'utag_main': 6, '_px3': 6, 'pageview_count': 6, '__adblocker': 6, 'ora_fpc': 6, 'ftr_fingerprint': 6, 'datadome': 6, 'gclb': 6, 'xf_csrf': 6, 'page': 6, '__utmt': 6, 'test': 6, 'ebay': 5, 'tz': 5, 's_nr': 5, 'ds_ab': 5, 'timezone': 5, 'devicepixelratio': 5, 'minbuffer': 5, '_px2': 5, '__cflb': 5, 'wt_rla': 5, 'xdibx': 5, 'stg_returning_visitor': 5, 'gig_canary_ver': 5, 'cmslandingpageloaded': 5, 'sf-trckngckie': 5, '_chartbeat2': 5, 's_sq': 5, '__utmc': 5, 'arc-country': 5, '__host-gaps': 5, '_icl_current_language': 5, 'cb-enabled': 5, 'mfdp': 5, 'wmf-last-access': 4, 'bei': 4, 'isg': 4, 'apache': 4, 'hs_ab_test': 4, 'ged_playlist_activity': 4, 's_pers': 4, 'amp_token': 4, 'mt.v': 4, '_csrf': 4, 'ir_gbd': 4, 'check': 4, 'viewtype': 4, 'exp_csrf_token': 4, '_ym_wassynced': 4, 'userinfo': 4, 'device_view': 4, '_ym_d': 4, 'kt_is_visited': 4, 'gig_canary': 4, 'ta': 4, 'country_code': 4, 'resolution': 4, 'ssrt': 4, 'shopify_pay_redirect': 4, 'fi_utm': 4, 'pum_alm_last_activity': 4, '_sp_v1_csv': 4, 'advanced_ads_page_impressions': 4, '__unam': 4, 'bblastactivity': 4, 'ct_pointer_data': 4, 'token': 4, 'slirequested': 4, '_gs': 4, 'wp-wpml_current_language': 4, 'political-ad-opt-out': 4, 'g': 4, '__gfp_64b': 4, 'wfu': 4, 'wt_fpc': 4, '__atuvs': 4, 'pref': 3, 'mspok': 3, '_gw': 3, 'adops_master_kvs': 3, 'cto_bundle': 3, 'cesc': 3, 'ki_t': 3, '_conv_s': 3, 'wpfront-notification-bar-landingpage': 3, 'resonancesegment': 3, 'lb_ld': 3, '_bdg_oil_c': 3, '__uzmdj2': 3, 'ftr_ncd': 3, 'bm_sz': 3, 'prov': 3, '_pxff_cc': 3, 'amcv_ed7001ac512d2abd0a490d4c%40adobeorg': 3, 'csrf': 3, 'is_live': 3, 'visited': 3, 'com.silverpop.ima.page_visit': 3, '__ddg1': 3, 'ut': 3, 'fp_token_7c6a6574-f011-4c9a-abdd-9894a102ccef': 3, 'location_data': 3, 'next-i18next': 3, 'trustedsite_visit': 3, 'dtlatc': 3, 'm2_analytics': 3, 'm2_ip': 3, 'lentainformstorage': 3, '_vfa': 3, 'measure': 3, '_config': 3, 'concrete5': 3, '_ok': 3, 'entryurl': 3, 'ezohw': 3, '_okdetect': 3, '': 3, 'sxa_site': 3, 'route': 3, 'aam': 3, 'tarteaucitron': 3, 'mailmunch_second_pageview': 3, 'tk_lr': 3, 'ss_cpvisit': 3, '10f31de32768511a2c1602e0157bd337111fc067': 3, 'gucs': 2, 'fg_9d12f2b2865de2f8c67706feaa332230': 2, 'cl_def_hp': 2, 'tmr_reqnum': 2, 'amcv_17fc406c5357ba6e0a490d4d%40adobeorg': 2, 'sp_ab': 2, 'timezoneoffset': 2, 'bvimplmain_site': 2, '_pxde': 2, '_s_tentry': 2, 'request_time': 2, 'ucs': 2, 'rt': 2, 'amcv_4d6368f454ec41940a4c98a6%40adobeorg': 2, 'browserwarningcount': 2, 'pov3': 2, '_shopify_s': 2, 'lngtd-sdp': 2, 'cyb': 2, 'xb': 2, 'anon_u': 2, 'digioh_page_views': 2, 'nyma': 2, 'visitor': 2, 's_dfa': 2, '__cmpcc': 2, '5141887_viewed_1': 2, 'amcv_bc421c8b5330ab130a490d4d%40adobeorg': 2, 'ealocale': 2, '_dd_s': 2, 'cm-proactive-state': 2, 'atstrackpiece1': 2, 'f5avrbbbbbbbbbbbbbbbb': 2, '_sp_v1_data': 2, '_mkra_ctxt': 2, '_pn_sbscrbr_fallback_denied': 2, '__uzmbj2': 2, 'cciso': 2, '_parsely_visitor': 2, 'ua-wn-pv': 2, 'location': 2, 'amcv_30545a0c536b768c0a490d44%40adobeorg': 2, 'adbrgn': 2, '_ems_visitor': 2, '_bb.bs': 2, '_uc_visits': 2, 'iab': 2, 'referrer': 2, 'utmrz': 2, '_ibp': 2, 'cna': 2, 'alreadyvisited': 2, '_caps': 2, 'exp_tracker': 2, 'tracker_device': 2, 'cfglobals': 2, 'version': 2, 'responsiveswitch.desktopmode': 2, 'tp': 2, 'remixrt': 2, 'atstrackpiece2': 2, '_v__chartbeat3': 2, 'country': 2, '__cq_dnt': 2, '_ibs': 2, 'vsutms': 2, 'attribution': 2, 'ss_cvisit': 2, 'amcvs_2387401053db208c0a490d4c%40adobeorg': 2, 'fsr.s': 2, 'fanplayr': 2, 'bblastvisit': 2, 'django_language': 2, 'v': 2, 'ox_plg': 2, 'xbc': 2, 'device_type': 2, 'crumb': 2, 'xm_vistor': 2, 'fccdcf': 2, 'sjse': 2, '__vero_visit': 2, 'iploc': 2, 'ips4_ipstimezone': 2, 'sbjs_udata': 2, 'pow_pullout-1_timer': 2, 'dw_dnt': 2, 'akacd_onerf': 2, 'swym-instrumentmap': 2, 'adrum_bt1': 2, 'wpglobus-language-old': 2, '_sp_enable_dfp_personalized_ads': 2, 'dw': 2, 'src': 2, 'product_data_storage': 2, 'avs': 2, '_csrf-frontend': 2, 'snapabuguseralias': 2, 'ti_continent': 2, 'recently_compared_product_previous': 2, 'waldo_continent': 2, 'cogitoergosum': 2, '_oklv': 2, 'utgv2': 2, 'tzo': 2, 'etuix': 2, '_icl_visitor_lang_js': 2, '_referrer': 2, 'taud': 2, 'wmf-last-access-global': 2, 'style': 2, '_tmc': 2, 'st_sp': 2, '_trs_ua_s_1': 2, '_pk_ses.10.4f3c': 2, '_qddab': 2, 'ss_cvt': 2, 'tm_pagesviewed': 2, 'al_balance-s': 2, 'cakephp': 2, 'xtant': 2, 'bp-activity-oldestpage': 2, 'cnzzdata1255442897': 2, 'client-lead-informer-closed': 2, 'mo_has_visited': 2, 'i18n_redirected': 2, 'prices_with_tax_1_0': 2, 'landingpage': 2, 'split': 2, 'pm_latlng': 2, 'apbct_visible_fields': 2, 'signedlspa': 2, 'dynprice_currencyregion': 2, 'ac_enable_tracking': 2, 'm': 2, 'cpm-start-page': 2, 'optoutmulti': 2, '__atuvc': 2, 'ezcmpccs': 2, 'wpusers': 2, 'bitrix_sm_last_visit': 2, 'adotr': 2, 'u': 2, '6c9f350a8f6da365b897de02054a1a137c4635d35f8602d1d': 2, 'qtrans_front_language': 2, 'gt': 1, 'cl': 1, 'connectionspeed': 1, 'twitch.lohp.countrycode': 1, 'akavpau_ppsd': 1, 'fireonce': 1, '__lotl': 1, 's_pathlength': 1, 'traffic_type': 1, 'ymex': 1, 'ci': 1, 'viq': 1, 'amcv_1baa15f354f731e60a4c98a4%40adobeorg': 1, 'm-tz': 1, 'thumbloadstats_vthumbs': 1, 'preferencesmsn': 1, 'ir_8543': 1, 'exp_hangover': 1, 'sclocale': 1, 'fsr.s.main': 1, 'kampyleuserpercentile': 1, '_cc': 1, 'traffic': 1, 'akaau': 1, 'ci_pixmgr': 1, 'ccpa': 1, 'sd_a': 1, '___c3': 1, 'l': 1, 'pmc': 1, 'amcv_5c36123f5245af470a490d45%40adobeorg': 1, 'fly_ab': 1, 'rbximagecache': 1, 'td': 1, 'x': 1, '_mkto_trk': 1, 'eproofui': 1, 'amcvs_1e22171b520e93bf0a490d44%40adobeorg': 1, '_pxff_cde': 1, 'ad_t_5': 1, 'personalization_krux': 1, 'lcvendor': 1, 'autostart': 1, '_zm_cdn_blocked': 1, 'pnespsdk_ssn': 1, 'wa_csrf': 1, 's_pvs': 1, '_dvp': 1, 'ali_apache_tracktmp': 1, 'amcv_65d316d751e563ec0a490d4c%40adobeorg': 1, 'aby': 1, 'mr_referredvisitor': 1, '__split': 1, 'ads_sess': 1, 'shopping-bag-migration': 1, 'fly_js_debug': 1, 'akavpau_www': 1, 'linktrk': 1, 'akusaa': 1, 'amcv_025c69945392449b0a490d4c%40adobeorg': 1, '_ugpstakeovershows': 1, 'amcv_48e815355bfe96970a495cd0%40adobeorg': 1, '_ym_visorc_49315045': 1, 'guest_jwt': 1, 'f': 1, 'classfundsummary': 1, 'ctxpxl': 1, 'lms-lang': 1, 'csm-hit': 1, 'pib': 1, 'guest': 1, 'ts0119d048': 1, 'coronavirusupdatebannershown': 1, 'h_zdbb': 1, 'sreferrer': 1, 'amcvs_bd260c0f53c9733e0a490d45%40adobeorg': 1, '_lb': 1, 'asana_orig_attr': 1, 'ab': 1, 'tsa459b1a6027': 1, 'zabhmbucket': 1, 'ud_rule_vars': 1, 'zit.w2755.displaysd': 1, '_hp2_ses_props.2199522758': 1, 'xman_f': 1, 'gw': 1, 'bigipserver~web~pool_lpxwebapa02.itap.purdue.edu_web': 1, 'redirect_location': 1, 'lc_zip': 1, 's': 1, 'www_hp_com_locale': 1, 'arraffinitycu': 1, 'userhistory': 1, 'visit': 1, 'amcv_9ae0f0145936e3790a495caa%40adobeorg': 1, 'cn_visits_m': 1, 'sso_redirect': 1, 'akavpau_www_cvs_com_general': 1, 's_ppv1': 1, 'announcement': 1, 'cp_gutc': 1, '__com_speed': 1, 'bigipserver~wsq-edu-med~www-http': 1, '_parsely_tpa_blocked': 1, '_wt_snowplowses.38f1': 1, 'rsadeviceprint': 1, 'amcv_2a2a138653c66cb60a490d45%40adobeorg': 1, 'userrole': 1, 'amcv_9bd537045330573c0a490d44%40adobeorg': 1, 'sc': 1, 'gig_bootstrap_3_bbxbrc0quuloj0hujw4hoy17alrl0uy8fdx59o4-prybwwtrncbkphb69ph9txsb': 1, 'hasseen': 1, 'viewport': 1, 'sd_inner_height': 1, 'sz': 1, 's_vis_repeat': 1, 'r29_cexp_v1': 1, 'imc2': 1, 'aka_locale': 1, '_sp_rejected_non_iab_vendors': 1, 'adsgroup-442-permutive_version': 1, 'owa_v': 1, 'return_to': 1, 'ssrt1': 1, 'hmcorp_referer': 1, 'client_context': 1, 'sat_prevpage': 1, 'utm_campaign': 1, 'ts01599aa1': 1, 'theme': 1, 'xf_mr_count': 1, 'akaalb_alb_www_ulta': 1, 'nm_theme_edit': 1, 'xcsrftoken': 1, 'site': 1, '_okac': 1, 'ts014661b0': 1, 'market_experiment_lprmt_rjrtqsvvsjqiwpsw': 1, 'bgslcpop': 1, 'a1s': 1, 'amcv_a553776a5245ae600a490d44%40adobeorg': 1, 'amcv_9944231a52e140110a490d44%40adobeorg': 1, 'amcv_926602be533057650a490d4c%40adobeorg': 1, 'akacd_livestrong-test-pools': 1, '__col_track_gototraining': 1, 'ppu_main_85db787a4a3e73b8bf155706edc5904b': 1, 'show_only_once_per_day6': 1, 'ip_info': 1, 'metapv': 1, 'gki': 1, 'bn_pp': 1, 'bigipserver~partition-sap_it_wcms-dx_prod~lb-0c01f14f-cca1': 1, 'countrytabs': 1, 'gig_bootstrap_2_zry6653ltf2hxro7qpnf8g-swumqq2flh8m3ohojfxhjwnqgupptaopwdv047oua': 1, 'akavpau_prod_vp_waiting_room': 1, 'zit.data.toexclude': 1, '_bsap_lifecap': 1, 'user-browser': 1, 'content-targeting': 1, 'is_guest_toasted': 1, 'languagepref': 1, 'uc': 1, 'ts0189be8e': 1, 'ga_digioh': 1, '_pk_ses.6.01c3': 1, '_pk_ses.1.5d0f': 1, 'atss': 1, 'nsc_ohjoy-qspgjmf-cbm-301': 1, 'authv1': 1, 'auth_token': 1, '84595051-ehtoken': 1, '_px_7125205957_cs': 1, '_dcf': 1, 'akavpau_usajobs': 1, 'nsc_xg-xxx.vi.fev-wt-iuuqt': 1, 'disqus_unique': 1, 's_cmp': 1, 'gag_tz': 1, 'ref': 1, 'mt.g.2d3efbec': 1, 'mage-translation-file-version': 1, 'awprospectchecked': 1, 'eucomp': 1, 'aa_lastvisit': 1, '_pk_ses.1.dd2b': 1, 'uchicago-prod_csrf_token': 1, 'trackthispage': 1, 'fct': 1, 'bulload_jz13qrwb': 1, 'akamaiistablet': 1, 'country-code': 1, 'pxss': 1, 'sat_track': 1, 'wtu': 1, 'mt_top_funnel': 1, 'ts016dea95': 1, '_csrfkey': 1, 'csrf-canary': 1, 'pgc': 1, 'pbpr0tpuw4isk85t8yg3jb2lj5vqf': 1, 'bg': 1, '__psugroup': 1, 'tms_mint': 1, 'promotionindex': 1, 'lgqcur': 1, 'cart_token': 1, 'gb_pf': 1, '_cls_v': 1, 'amcv_f6171253512d2b8c0a490d45%40adobeorg': 1, 'dojodesiredlanguage': 1, 'seut_24hrpvs': 1, 'ts01f2416b': 1, 'wc_eea': 1, '__myutmz': 1, 'q6da7j3mn3wpbqvv6vru5cbqxv0q+i9ddzfgro+pognxqwjw': 1, 'amcv_8f8b67c25245b30d0a490d4c%40adobeorg': 1, 'bagcount': 1, 'xyz_cr_923_et_100': 1, 'nlbi_1285770': 1, 'ads_wallpaper': 1, 'requestverificationtoken': 1, 'variant': 1, 'gig_bootstrap_2_tefie9yy6k1be6-bntwhgwayaaqhgcm8ddlduvygrkecmitxqf5tk33uwzipgurt': 1, 'oclc_website': 1, 'eu_compliance': 1, '_gd_svisitor': 1, 'iss00': 1, 'ss': 1, 'magic_aleks_com': 1, 'zfc': 1, 'experimentationvariation': 1, 'prod_csrf': 1, 'yay': 1, 'iutk': 1, 'akavpau_www_ets_org_pm': 1, '_4c_': 1, 'uxatc': 1, 'fs-revisit': 1, '_hp2_ses_props.1279799279': 1, '__cq_seg': 1, '_pxff_bsco': 1, 'cloudfront_viewer_country': 1, 'bigipserver~its-unixadmins~www_fsu_edu_http_pool': 1, '_source': 1, 'iflipsess': 1, 'pp': 1, 'ziplocale': 1, 'lila2': 1, 'bv_sup': 1, 'ts01d748a7': 1, 'amcv_2ded4480533b2d590a490d4c%40adobeorg': 1, 'incap_ses_374_1638430': 1, 'ts1dc91cf5_74': 1, 'incap_ses_1184_121505': 1, 's-9da4': 1, 'akacd_phased_release': 1, 'from': 1, 'prod-edx-cf-loc': 1, 'amoeba': 1, 'gwfm': 1, 'com.xk72.webparts.csrf': 1, 'search_filter_new': 1, 'amcv_ea673dfc5a2f19060a495c9c@adobeorg': 1, 'akaas_feed': 1, 'msgcc': 1, 'amcv_b6761cfe533096cb0a490d45%40adobeorg': 1, 's_hc': 1, 's_nr30': 1, 'firstad': 1, 'newtofarkshowncount': 1, 'f5avr1842663392aaaaaaaaaaaaaaaa': 1, 'hstgr': 1, 'bigipserver~webcomm~wsuwp.web.wsu.edu_443_pool': 1, 'attr_multitouch': 1, 'pv_count': 1, 'arxiv_browse': 1, 'pg_tc_response_time': 1, 'pb_mobile': 1, 'menutaboption': 1, 'loadtime': 1, '_i18nco': 1, 'akacd_pr_fanatics_split': 1, 'o-typography-fonts-loaded': 1, 'aw_rdt_url': 1, '_cc_xsource': 1, 'kt_lang': 1, 'lfmjs': 1, 'oo_inv_hit': 1, '43ix6e': 1, 'policy': 1, 'cnzzdata1278094041': 1, 'ldtd': 1, 'gig_bootstrap_2_isv3jf0mvuegvwujn8lzj-alfc8sequr9-xuo10t_9684pgkucsrvhah_crciqyu': 1, '___so529001': 1, '_pk_ses.526b48f2-7fb8-4564-8fcd-f2f0021a5b29.862b': 1, 'ck': 1, 's_pn': 1, 'source-country': 1, 'npii': 1, 'bigipserverwww_ou_edu_cms_servers': 1, 'disable_opt_out': 1, 'mp_681f969629fb1e240622f04a045d8a41_mixpanel': 1, 'isheaderlanguagevisible': 1, 'rating_filter': 1, 'sn_tracker_campaign': 1, 'jtime': 1, 'akacd_techwalla-test-pools': 1, 'akavpau_vp1': 1, '_shopify_fs': 1, 'wtpersist': 1, 'sat_ppv': 1, 'amcv_4ee1bb6555f9369a7f000101%40adobeorg': 1, 'ms_touch': 1, 'bigipserver~oit-prod~prod_waf-www_suny_edu_80': 1, 'ts01a59dd9': 1, 'intro_hibernation': 1, 'noticeshown': 1, 'urcapture': 1, 'onsite-test-selection-v1': 1, '_delighted_web': 1, 'ab_bucket': 1, '_s.lt': 1, 'travelandleisurecssfont0-2': 1, 'al_visitor_type': 1, 'akaclientip': 1, 'quizizz_spons_slot2': 1, 'dkuhint': 1, 'search_section': 1, '196619b11e9b3983001a19be3a9ba2c1': 1, 'nlbi_1795453': 1, 'small': 1, '_pk_ses.1.7d7a': 1, 'hs_nl_interstitial_views': 1, 'opendns_account': 1, 'comments': 1, 'cachec': 1, 'vgdc': 1, 'amcv_5b6a123f5245adcf0a490d45%40adobeorg': 1, 'topiclist': 1, '__bgresource': 1, 'jsenabled': 1, 'requestedpage': 1, 'membershipcontentblockercountv2': 1, 'pc': 1, 'bigipserver~dmz~prod_www_dmz_www.rochester.edu_81_pool': 1, 'akacd_rel': 1, 'fly_edition': 1, 'akacd_hunker-test-pools': 1, 'ts0168c81b': 1, 'prev_pv_ts': 1, 'incap_ses_458_1269859': 1, 'bulexpir_jmh2btzn': 1, 'player': 1, 'wrikelocale': 1, 'was_here': 1, 'dfp-npa': 1, 'emergency-alertsdcc69aa9-e3c9-4440-b647-800fba55e0e2__1593979809': 1, 'ajeusercountry': 1, 'rememberme': 1, 'countrycode': 1, 'sc_pview_shuser': 1, 'timezone_name': 1, '__rpck': 1, 'gig_bootstrap_3_hv0icvfjhy6ggpyq7w3qemnrapxgl1dpoyt9qq2scgn4bcllorqk1r3arbwkbw4v': 1, 'incap_ses_454_1312966': 1, 'ajs_created_at': 1, '_scs': 1, 'liveagent_oref': 1, 'mp_rover_alooma': 1, 'returninguser': 1, 'amcv_b8d07ff4520e94c10a490d4c%40adobeorg': 1, 'sw.continentcode': 1, 'kf_72175858_land_page_ok': 1, 'tracking': 1, 'csnpersist': 1, '_bdg_oil_s': 1, '_mwus.sig': 1, '_csrf_token': 1, 'platform': 1, 'cloudfronturl': 1, 'bbalastactivity': 1, 'cclheader': 1, 'dark_mode': 1, 'hfleadgen': 1, 'market_cart': 1, 'guest_tkt': 1, 'amcv_786abb6b55c1da777f000101%40adobeorg': 1, 'bat_tracking_data_alt': 1, 'ir_10639': 1, 'ts01164224': 1, '_scp': 1, 'ts01335259': 1, 'time': 1, 'ccl': 1, 'ppu_exp_009b368f8950b2d4696d8e50981c0d2d': 1, 'sitesectionprevpage': 1, 'amcv_fcd5e69b53fdc29c0a4c98a7%40adobeorg': 1, 'user-continent': 1, 'loc_set_0525': 1, 'incap_ses_802_1709798': 1, 'referring_user': 1, 'my': 1, 'akcc': 1, 'shpcssfont0-2': 1, 'ts2e41fba7027': 1, 'lxcprm': 1, 'utm_source_last': 1, 'bigipserverwww.clemson.edu_https_pool': 1, 'pv_pn': 1, 'sp': 1, 'akavpau_default': 1, 'cart_ts': 1, '_sp_ses.6552': 1, 'ccpaapplies': 1, 'v0': 1, '_hp2_ses_props.3152687550': 1, 'pt': 1, 'ak_server_time': 1, 'srct': 1, 'ts013c27e3': 1, 'exp_last_activity': 1, '_okbk': 1, 'wikifeetab': 1, 'sys': 1, '_efr': 1, 'bigipserverweb_https_prod.app~web_https_prod_pool_int': 1, 'country_version': 1, 'tsb50fed8c029': 1, 'adhesiveentry_t2': 1, 'req_notification': 1, 'akaas_homepageabprod': 1, '_pk_ses.100001.8cb4': 1, '_pgar': 1, '_adb': 1, '___so124934': 1, 'aadnonce': 1, 'amcv_f6d93025512d2b0a0a490d44%40adobeorg': 1, 'f9414a2856bbe9a201b6bfd01ec37a95': 1, 'faktorisineu': 1, '_pc_tinypass_truex': 1, 'market_experiment_gkizsb-zq_cexg-ji-aygq': 1, 's_vmonthnum': 1, 'rl_trait': 1, 'amu-pv': 1, 'clickstream': 1, 'esea': 1, '_pk_ses.2.f75b': 1, 'bigipserverccstore-prod-zdwa_oracleoutsourcing_com_http': 1, 'v20': 1, 'wc_authentication_-1002': 1, '_nr': 1, 'menu': 1, 'background': 1, 'ts012d48f7': 1, 'amcv_b5281c8b53309cef0a490d4d%40adobeorg': 1, 'zc_lat_lng': 1, '_gpslsc': 1, 'srv': 1, 'bigipserverlaz_prod_readinga-z': 1, 't': 1, 'spl': 1, 'mktz_client': 1, 'bc9bd58fe1b6ef954d6d794db6d30e25e8ff50634d24346cf8006ef422e3c05c6e48b07678e34d08c97ad3f91012c80ac690b50f51fbd49b16e301de58d9c5ca': 1, 'ml-traffic-source-26573400': 1, 'break_2019': 1, 'run_fs_for_user': 1, 'clickcounter': 1, 'spa112': 1, 'isiframeenabled': 1, 'fs_cr': 1, 'customer_date': 1, 'whtninja': 1, 'css_first_load': 1, 'stylesheet': 1, 't-token': 1, 'seo_page_path': 1, 'we_search_params': 1, 'datacenter': 1, 'ecos.dt': 1, 'refresh': 1, 'akacd_pr_iris_permanent': 1, 'kayak': 1, '_conv_v': 1, 'inbound_trk_params': 1, 'crbn_abl': 1, 'sb_csrftoken': 1, 'rn_mpv': 1, 'kartrapage_popwindow%2fhome': 1, '_mibhv': 1, 'ruw': 1, 'srvname': 1, 'btntoken': 1, '_ls_tracking': 1, 'f5avr1091974182aaaaaaaaaaaaaaaa': 1, 'nsc_xxx-vdpq-fev': 1, 'tc_q': 1, 'xg_sc': 1, 'mp_26bd4a3dcc47c8a293c60fa00656fb81_mixpanel': 1, '_sp_ses.9085': 1, 'incap_ses_374_510675': 1, 'bigipserverwcuweb_pool': 1, 'email_signup_2017_may_17aa': 1, 'frontend': 1, 'uniquecmgvisitor': 1, 'amrxsrftoken': 1, 'tc_y_an23': 1, '__visitor_token': 1, 'sitetrack': 1, 'cached_critical_css': 1, 'styxkey-webpagereferrer': 1, '7c34bb3cc1fa9cd77b7ce6e7a4008bd5': 1, 'planbookcommon': 1, 'splunk_sub_signup': 1, 'client_timezone': 1, 'amcv_653f60b351e568560a490d4d%40adobeorg': 1, 'bigipserverp_clint_80': 1, 'outreach_returning': 1, 'ljuniq': 1, '__ld_hash_key': 1, 'it_csrf': 1, 'ips4_hasjs': 1, 'hp_algo': 1, 'is_tour_first_time_user': 1, 'tt_c_m': 1, 'ex_vsb_2194463060022689852': 1, 's_ev49': 1, 'eqxweb.location': 1, 'homestyle': 1, 'kayak.mc': 1, 'tv': 1, 'site_visits': 1, 'i18next': 1, '_gd_visitor': 1, 'b1p': 1, '__rh-fingerprint-mfb67badea0c': 1, '615e55xbd_e8d7_lastact': 1, 'ng_translate_lang_key': 1, '_pk_ses.10.7d4d': 1, 'hp': 1, 'pvv': 1, 'alert-box': 1, 'us-supreme-court': 1, 'ahoy_visitor': 1, 'amazon-pay-connectedauth': 1, 'fth_ads_view_count': 1, 'akacd_www_boostmobile_com_phased': 1, 'authorized': 1, 'region_ver': 1, 'query_string': 1, 'wellgood_last_visit': 1, 'modalfrequency': 1, '90362588_clogin': 1, 'se_user_type': 1, 'incap_ses_874_770081': 1, 'popover': 1, '_sdsat_campaign query parameter': 1, 'mobify-path': 1, '_ck_form': 1, '_pk_ses.1.dc9c': 1, 'incap_ses_482_1814747': 1, 'site_warning': 1, 'm5a4xojbcp2nx3gptmm633qal3gzmadn': 1, 'bm_sv': 1, 'forceccpa': 1, 'utm_source': 1, 'mm_lang': 1, 'ot_csrf': 1, 'scully': 1, 'cl_b': 1, 'promocode': 1, 'pmcsc_sub_unknownip': 1, 'nginx_cache': 1, 'nsc_xxx_iuuqt': 1, 'bc.visitortoken': 1, 'ab-testing': 1, 'state_code': 1, '_pc_naacpbanner': 1, 'tagit_params': 1, 'incap_ses_480_2122409': 1, '_evga_f7bc': 1, 'visa_1_ae358702f6fe6567fb8c23adec7361d6': 1, 'bigipserverpool_montgomeryschoolsmd_http': 1, 'iu': 1, 'bigipserverclickpay-prod-web-8080': 1, 'userfromeea': 1, 'isproactiveinvite': 1, 'tr6': 1, '__abvs': 1, 'currentipaddress': 1, 'turnto_teaser_shown': 1, '_1c3cf': 1, '_pk_ses.1.2b3f': 1, 'wpml_browser_redirect_test': 1, 'splashshown': 1, '_pk_ses.1.01b8': 1, 'fontssite': 1, 'wmdmzof0wze': 1, 'ir_10756': 1, '2203582a559d33e840dfef6af67d2043': 1, '_rj_web': 1, 'ip_location': 1, 'phpbb3_xkuce_k': 1, 's_gpv_pn': 1, 'abtgroup': 1, 'incap_ses_143_828945': 1, 'cart_totals': 1, '_pointillist_landing_page': 1, 'lastvisit': 1, 'h_eph_sess': 1, 'cmsshoppingcart': 1, '_yngt': 1, 'cnzzdata1279056215': 1, 'yextusertimezone': 1, 'chbx': 1, 'cttmp': 1, 'cssc1206': 1, 'initialurl': 1, 'countryredirect': 1, 'bulexpir_jfbnye0g': 1, 'leadcampaignkw': 1, 'aliyun_choice': 1, 'vto': 1, '_ma_starttm': 1, 'twitlonger': 1, 'marketbeatoptinpopuptype': 1, 'syno-quickconnect-tutorial': 1, '50d46': 1, 'slibeacon_455083113': 1, 'landing_page_url': 1, 'autoplaynext': 1, 'bainpagehistory': 1, 'heatmaps_g2g_100997731': 1, '_igt': 1, 'bigipserverdrupal8-https': 1, '_fz_uniq': 1, 'udbacktrack': 1, '_pxff_rf': 1, 'first_utm_medium': 1, 'ppc': 1, 'ts0198a9da': 1, 'shipexpect_cart-sw': 1, '_pk_ses.1.32b8': 1, '_bfa': 1, '_vfb': 1, '_capc': 1, 'ts0171a6eb': 1, 'aka-ct': 1, 'f5avr1841858414aaaaaaaaaaaaaaaa': 1, 'cb_tz': 1, 'cnzzdata1254438192': 1, 'ts01a6d8b9': 1, '__ss_tk': 1, 'velbarvisibility': 1, 'captcha-image-': 1, 'lhc_per': 1, 'aip_sl': 1, 'avaz': 1, 'bigipserveratg-prod-ahs_oracleoutsourcing_com_3021': 1, 'bigipservermassageenvy.com_bl-pool': 1, 'neocities': 1, 'hdr.shippingrev4': 1, 'final_lnd': 1, '_cio': 1, 'myhw_s': 1, 'thumbnail_size': 1, 'amcvs_c00802be5330a8350a490d4c%40adobeorg': 1, 'organization_callsign': 1, 'landingdata': 1, 'prism_476007677': 1, 'bflexile': 1, 'fvd': 1, 'ione_viewcount': 1, '.aspxanonymous': 1, 'tk_ai': 1, 'stc119621': 1, 'vscommerce': 1, 'checked': 1, '_lc2_fpi': 1, 'aucp13n': 1, 'mage-messages': 1, 'incap_ses_532_1719354': 1, '__k_site': 1, 'ts01be6d59': 1, 'kp.browser.key': 1, 'bnes_samesite': 1, 'currencycode': 1, 'lc_window_state': 1, '_fby_site_': 1, 'incap_ses_374_1639510': 1, 'bounceclientvisit1313v': 1, '_shopify_y': 1, 'bddatabase_boss_timer_alert_period': 1, 'polarisuserepi': 1, 'saved': 1, 'is_logged_in': 1, 'loc': 1, 'aws-csds-token': 1, 'cart-item-count': 1, 'incap_ses_869_2188724': 1, 'cmc_is_minimized': 1, 'dnt': 1, 'mx_bucket_20': 1, 'mb_visited_articles[1997807]': 1, 'mp_babdcb2132d9205085bc3d007ba28b8b_mixpanel': 1, 'amcv_f75c3025512d2c1d0a490d44%40adobeorg': 1, 'filehosting': 1, 'sx_script_loaded': 1, 'split_test_version': 1, '__clientinfo__': 1, '__zjc4773': 1, 'sectionclicked': 1, 'bde7dc17128644b64914663e499bd5e3': 1, '_st': 1, 'region': 1, 'lightboxfirstvisit': 1, 'sc_expview': 1, 'amcv_945d02be532957400a490d4c%40adobeorg': 1, 'ssesse8b991c9f5d9f98ac9601cb23dded2a8': 1, 'user-country': 1, 'flexport_sign_up': 1, 'refs': 1, 'gig_bootstrap_3_u7jrr-moy77_dgxmfs6pu_kbt4i0ovbo-0nlnjmvanyx9xmfmy20h5lbgcx1qbdq': 1, 'awselb_db_ext': 1, 'tw_client_os_js': 1, '_pk_ses.3.3c7f': 1, 'coordinates': 1, 'prism_252301749': 1, 'x-mapping-fjhppofk': 1, 'el-nosql-7bfb9c9': 1, 'sdata': 1, 'cbm_aco': 1, 'user': 1, 'avmws': 1, 'ooyala': 1, 'has initiated form': 1, 'user_location': 1, 'sessdata': 1, '___utmvbpkummel': 1, 'sm2_ca': 1, '_pk_ses.1.a50e': 1, 'dpi': 1, 'client_ip': 1, 'xen_csrf': 1, '53700000_clogin': 1, 'textsize': 1, 'viewedrr': 1, 'nami202006': 1, 'mrc': 1, 'wp5166': 1, 'incap_ses_198_593507': 1, 'pop': 1, 'catholic1per24': 1, 'incap_ses_869_913313': 1, 'driftplaybook': 1, 'cmn_country_code': 1, 'ezux_lpl_182893': 1, 'kfcustomer': 1, 'betabrand-campaign-last': 1, 'sw': 1, 'sl_ref': 1, 'savvy': 1, 'spo_249_fa': 1, 'amcv_97d902be53295fee0a490d4c%40adobeorg': 1, 'amcv_19916abb53224b2c0a490d45%40adobeorg': 1, 'pushnotification-showncount-3901': 1, 'hccfl_alert': 1, 'mo_is_new': 1, 'foolframe_5su_csrf_token': 1, 'incap_ses_867_2284042': 1, 'selectedcountrycode': 1, 'netlocation': 1, 'ciq_g_34_checkout_test_phase_4': 1, 'imh_detected_country': 1, 'mobile': 1, 'showvalalert': 1, '__wds1': 1, 'bigipserveraudiworld-web_pool': 1, 'is': 1, 'dataquest-cac-landing-page-last-touch': 1, 'adblock_detected': 1, '_shopify_sa_t': 1, 'vlge_tz': 1, 'bl_ngx': 1, 'incap_ses_456_139028': 1, 'googcdn': 1, 'samanage_ct_c': 1, 'amcv_1e0b1d4b55c0c6e17f000101%40adobeorg': 1, 'akaas_telemundo': 1, 'dia-lb': 1, 'prism_89984654': 1, 'prism_25999500': 1, 'gc_visit_116': 1, 'bigipserverinhabitat-varnish_pool': 1, 'screen_size': 1, 'cppro-ft-style-temp': 1, 'olark_referrer': 1, 'timezone_iana': 1, 'amcvs_f07ca6c85640b3f57f000101%40adobeorg': 1, 'personal_1': 1, 'form_key': 1, '_ym_visorc_49969501': 1, '_slvddv': 1, 'ox_sd': 1, 'ts0101cc70': 1, 'fastly_cdn_formkey': 1, 'yii_csrf_token': 1, 'at_fitment_f250': 1, 'wbc7ebcwbd': 1, 'incap_ses_454_805522': 1, 'tsinitialreferrer': 1, 'l_inst': 1, 'amcv_13340c0f53daafac0a490d45%40adobeorg': 1, 'chatzydaily': 1, 'ezux_lpl_103345': 1, 'drift_campaign_refresh': 1, '_sp_ses.b290': 1, 'bigipserverlxc_voysoprismicro_prod': 1, 'rtng': 1, 'cc-home-departments-cached': 1, 'colorpop': 1, 'visit_count': 1, 'smpush_desktop_request': 1, 'readarticle': 1, 'addkt-sdp': 1, 'chopra_meta': 1, 'incap_ses_340_2095384': 1, 'conversionurl': 1, 'abaj_tracker': 1, 'incap_ses_454_2140605': 1, 'auth_param': 1, '000dd6fb23759d4b044541b58bbbed29': 1, 'mp_20db6006a45b598522e394d908804ddb_mixpanel': 1, 'modalads': 1, 'receiptful-token': 1, 'cf_7256_person_last_update': 1, 'tlc': 1, 'scd': 1, 'csrf-secret': 1, 'bfx.language': 1, '_zm_lev': 1, 'dp_mkt_lead_source': 1, 'wp10967': 1, 'series': 1, '_nx-nocache': 1, 'yuo1': 1, 'ims_source_specify': 1, 'exitintel_cd': 1, 'c3s-444': 1, 'oasgroup': 1, 'refurl': 1, 'incap_ses_1185_445442': 1, '_cart-environment': 1, '__requestverificationtoken_l1bvcnrhba2': 1, 'cssversion': 1, 'amcvs_1ba334b85278467d0a490d44%40adobeorg': 1, '__consultsystems[bkv0ice9j5rs]': 1, 'ususearchtype': 1, '_tb_token_': 1, 'lohp_test': 1, '_xm_umtoken': 1, 'trustedsite_tm_float_seen': 1, 'picreel_tracker__first_visit': 1, 'ts01053ce1': 1, 'ucsf_promo_c53a53be5d8e4244b8ad3923a12f830e': 1, 'sm_product_type_for_google_analytics': 1, 'red': 1, 'tube_tour_thumbs_displayed': 1, 'mp_b04802a3f047a2630fd3a4504c5206ec_mixpanel': 1, 'sitesfirstname': 1, 'phlv-es-12608': 1, 'u:location': 1, 'dmd-ahk': 1, 'lkebackhistory': 1, 'iwt_landing_url': 1, 'smglasttheater': 1, '_sp_ses.77b5': 1, 'amcv_5f34123f5245b4a70a490d45%40adobeorg': 1, 'tbdresscurrentcurrency': 1, 'picreel_tracker__visited': 1, 'ezopvc_5993': 1, 's_gvo_51': 1, 'noresponsive': 1, '_pk_ses.444.a5c8': 1, 'ts010dbd07': 1, 'bigipserverpool_prod_iso_webstore-basket': 1, 'wa_ul': 1, 'gsp': 1, 'signup.landingurl': 1, 'gmail_rtt': 1, 'tk_qs': 1, 'breadcrumbs': 1, 'vinfo_n_f_l_n3': 1, 'ts01b28d27': 1, 'tho_post_titles': 1, '_grxs': 1, 'bls_sgf': 1, 'city': 1, 'zg_14e129856fe4458eb91a735923550aa6': 1, '_pk_ses': 1, 'nav': 1, 'amcv_cb793704532e6e4d0a490d44%40adobeorg': 1, '_pk_ses.93eca241-64e8-4ada-8466-616cf71a6055.f05f': 1, 'channel': 1, '_sp_ses.e261': 1, '_track_user': 1, 'preferreddictionaries': 1, 'xsa_exdmp_fq': 1, 'brcap': 1, 'akacd_money': 1, '_pk_ses.1.3419': 1, '.aspnetcore.antiforgery.w5w7x28nais': 1, '_603d6': 1, 'userdata': 1, 'xtant124093': 1, 'sp_landing': 1, 'ssess2453298133217fb5e58056961e6aa29d': 1, 'ownpage_fp2': 1, 'wdses': 1, 'fptthc': 1, 'js-enabled': 1, 'bplacedt': 1, 'fe_accordion_status': 1, 'nsc_joukvrlhbgkouczd0jfeljctmhpcmet': 1, 'in_uri': 1, 'gfo#lang': 1, 'ut-settings': 1, 'gig_bootstrap_3_hob3sxlwsbrwjpfz4f4zeuxpo2pyeelfmwgwo2exdbyuqwmk8lxnj78fi_2vw5ch': 1, 'yfx_f_l_v_t_10005529': 1, '_pk_ses.4.723e': 1, 'i18n_locale_code': 1, 'mnd_first_visit': 1, 'uob_ck_1': 1, 'poptin_user_ip': 1, 'ts017a74ff': 1, 'i00': 1, '_lg_form__leadx': 1, 'pc_v6': 1, 'sinaglobal': 1, 'unqu_readwrite.com': 1, '_lxsdk_s': 1, 'nabexperimentswithpageviews': 1, '_pk_ses.1.cb94': 1, 'ulv': 1, 'cnzzdata1257046989': 1, 'dpl-pw-ip': 1, '_pk_ses.72.2dcb': 1, 'bca4cfef7502a9b0f4a59cee86b64f8d': 1, 'wpp_fs_20': 1, 'ts0157cc3c': 1, '-content-concordia-en-news-home-en-home-hero-rotate-101': 1, 'incap_ses_476_1347125': 1, 'nf_ab': 1, '_pk_ses.14.ec65': 1, 'tqb-impression-263-tqb-user-5efcc16a06eb57_93683274': 1, 'gpv_page': 1, 'is_customer_hash': 1, 'tqb-impression-263-tqb-user-5efcb91927f161_94981305': 1, 'bigipserveriukrwtkximypfrbx5ygwmq': 1, 'gpserver': 1, 'ams_bp37qb3zu9': 1, 'ack_server_10017': 1, 'epersist': 1, 'localcurrencyisocode': 1, 'cnzzdata5940606': 1, 'click_mobile': 1, 'iv': 1, 'ppag': 1, '_ym_visorc_56282032': 1, 'lb_portal_http': 1, 'zh_choose_3': 1, '_pk_ses.17.7abe': 1, '_pk_ses.1.f8e6': 1, 'omseen-rm9poxuyzfulfzqv4lfa': 1, 'lasttime': 1, 'amcv_1c1238b352785aa60a490d4c%40adobeorg': 1, '_pk_ses.2.b718': 1, 'mintuniquehour': 1, '_qddamta_2852162721': 1, '61480': 1, 'inbox': 1, 'site-887761-nrsi': 1, '_lp4_c': 1, 'f5avr0322709418aaaaaaaaaaaaaaaa': 1, 'wg_old1b997a3c2e22bb07cc8bf6dac9378bf2': 1, 'remixgp': 1, '_pk_ses.2.12b0': 1, 'koo.line': 1, 'backend': 1, '_pk_ses.10.8d99': 1, '__cdn_clearance': 1, 'prism_1000583938': 1, 'ticket': 1, 'fsr.a.ojpncjrs': 1, '4286991c034c95f91815976b28065483': 1, 'amcvs_98dc73ae52e13f1e0a490d4c%40adobeorg': 1, 'mgref': 1, 'sbt_p': 1, 'mp_eb4c820161f6ead8054c94e14c144900_mixpanel': 1, 'wyctoken': 1, 'cnzzdata3412177': 1, 'dmd-dda26e16-26be-4c46-a0db-56589feed7b4': 1, '_': 1, '_zb_stats_visit_438461': 1, 'sess890c861ad20dc56e517120e3af47b018': 1, 'mintuniquemonth': 1, 'ts016af7d1': 1, 'nsc_xfcqmvt-02-iuuqt': 1, 'basketcount': 1, 'at_check': 1, 'sc-language': 1, 'zohomarksrc': 1, 'popupcheck': 1, 'incap_ses_368_1861213': 1, 'amcv_fcd03e0c5a536b910a495e1b%40adobeorg': 1, '_crm_tn': 1, 'nsc_mc-wt-iuuq-tibep': 1, 'hmtime': 1, 'incap_ses_454_2272383': 1, 'wd': 1, 'gpv': 1, 'show_custom_email_exchange': 1, 'ffa74efd61fd30e46785ea5754a5b2d1': 1, 'clwz_blc_pst_www': 1, 'vmgrlt': 1, 'xtan': 1, '_pk_ses.2.c4b1': 1, '__qca': 1, 'usersegmentlogin': 1, '_okla': 1, 'hrmtracker_s': 1, 'specoffer': 1, 'loggedin': 1, '_pk_ses.1.7f9e': 1, 'cbalanguage': 1, 'newslistcounter': 1, 'hzefuyisdyaa': 1, '_pk_ses.1000.6c36': 1, 'userhash': 1, 'ts01901308': 1, 'qs_pv_8996': 1, 'amcv_fc92401053da88170a490d4c%40adobeorg': 1, 'vat_included': 1, 'returning': 1, 'poptin_referrer': 1, '_pk_ses.1.a754': 1, '_pk_ses.103.8c13': 1, '_pk_ses.1241.1de9': 1, '8109998e300a45f4619e2991071b645e': 1, 'wc_persistent': 1, 'pw_add_api_set': 1, 'sitzung': 1, 'transip-hash': 1, 'livechatvisitstarttime': 1, 'tatravelinfo': 1, 'ditto1_0': 1, 'fv20200711': 1, 'ora_otd_jroute': 1, 'ard_mediathek_player_settings': 1, 'pum_alm_first_activity': 1, 'usersite': 1, 'tnnomobile': 1, 'aleteialoyalty.numberofpages': 1, 'ekcmpseen': 1, '_pk_ses.3.6886': 1, 'mailchimp_landing_site': 1, 'ts016299ba': 1, 'aliyungf_tc': 1, 'bigipserverwww.ibo.org.app~www.ibo.org_pool': 1, 'dpm_time_site': 1, 'website.dimensions': 1, 'un1': 1, '_pk_ses.2.7ced': 1, '_pk_ses.inosmi.4bc3': 1, '_pk_ses.13.1859': 1, 'aam_net_ts': 1, 'nsc_ued1-qspe-qpmbs-mc-iuuq-dt': 1, 'gig_bootstrap_3_swetkbk1cthx5evcrpgdyawjaqzhr0gsbyxuzb5a8hb4wzqw8lma0jojced7kq41': 1, 'meizustorecartcount': 1, 'a4d28e329c9fbff6d562a42e8baa5793': 1, 'qs_lvt_3608': 1, 'incap_ses_457_2176488': 1, 'visitorstatus': 1, 'ts01246ee2': 1, 'bigipserverccstore-prod-z9ja_oracleoutsourcing_com_http': 1, 'adshow': 1, 'cmt_version': 1, 'cm_at': 1, 'sgpbshowinglimitationdomain105316': 1, 'amcv_32994a405bf4053b0a495dd1%40adobeorg': 1, '_pk_ses.6.db9b': 1, 'webfontsloaded': 1, '_origin': 1, '3ec986f4f850e1d0bdcd00fd24b0c473': 1, 'amcv_dfb444ec58e6aaa70a495c7f%40adobeorg': 1, 'sptg': 1, 'cff7efbe4f2d3aaf50ca820acd03cfe9': 1, '_pk_ses.155.297a': 1, 'cx_p': 1, 'beeketing_cart_fragments_init': 1, 'nlbi_2439_1706812': 1, 'countryselect_get': 1, 'showadvertisingcount': 1, 'i': 1, 'lolipop1staccdate': 1, '_pk_ses.8.9492': 1, 'show_login': 1, 'ts0132f28a': 1, 'uslk_s': 1, 'ts014b05f0': 1, 'f9big': 1, 'userabtest': 1, 'incap_ses_802_793430': 1, 'sksadvanced': 1, 'ts013f31df': 1, '279c7ecf7464b93cde87d25705dc3281': 1, 'alltop_09d53cde041729c0d0685c0496568ccd': 1, 'lb_selection': 1, '_pk_ses.32.5b5f': 1, 'lc_sso1067033': 1, 'f5avr1069527228aaaaaaaaaaaaaaaa': 1, 'ts0b264815027': 1, 'ir_4464': 1, '_csrftoken': 1, 'edduh_hash': 1, 'pum-102848': 1, 'htli': 1, 'df827789f8b800ab4c5677e02c64bd73': 1, 'cat': 1, '_nc_1_311': 1, 'xf_ta_headeradviewed': 1, '17197206af80b87091743f1807a18664': 1, 'nsc_wtsw_xxx.dgg.psh_ttm': 1, 'prism_252270099': 1, 'br_hhog_promo_popup_9807': 1, 'pw_virt6_persistence': 1, '_pk_ses.4.d431': 1, 'bigipserverwww-external-443.app~www-external-443_pool': 1, 'popup_modals': 1, 'usercontext': 1, 'siteselection': 1, '6e3d4db819b12f2fca8bb2ccff6b8409': 1, 'cdb_back[act]': 1, '_pk_ses.2.4c64': 1, 'live800_c_r': 1, 'nlbi_1832240': 1, 'logo_displayed': 1, 'ngs_avc': 1, 'bannerdismissed': 1, '_fun_pageview_at': 1, 'ssi--lastinteraction': 1, '_pk_ses.15711.67ce': 1, 'news_select_sort': 1, 'lbdat': 1, 'xrost_sent': 1, '_pk_ses.5661.2ee8': 1, 'c': 1, 'qb_permanent': 1, 'amcv_19a568f454f72daf0a4c98a6%40adobeorg': 1, 'cshuc': 1, 'lightbox-7189': 1, '_pk_ses.1.b39f': 1, 'gig_bootstrap_3_oznwzjtgzevhxlpip5crqku49oeth4nn-arvwuz7v9dqtdzq63slnvdtmx-pzcva': 1, '_pk_ses.8e4eff97-76a7-4a22-a2b6-ca793a6b5e49.1f66': 1, 'searchoption': 1, '_yeti_currency_new_2': 1, 'face': 1, 'panelstate': 1, '87631f55113211c5b1b28901171adcab': 1, 'lsw_web': 1, 'rxvisitor': 1, 'advanced-frontend': 1, '__utrace': 1, 'is_first_visit': 1, 'lc_sso8466128': 1, 'spb_block-givingtuesdaylightbox': 1, '_pk_ses.1.85e7': 1, 'zdt36n37j32i00': 1, 'last_visit': 1, 'ts0141ee12': 1, 'f1e11b31cd0246ee515ba494d067f2cb': 1, 'token_qpujaaaaaaaagu98hdz1l_lcsz2ry60ajjk9u1c': 1, 'ad_intersitial': 1, 'xtan292973': 1, '_pk_ses.27.106f': 1, 'e5e8e5fd6c81f76afcd640dcdabd36e8': 1, '_pk_ses.1.1815': 1, 'prevpage': 1, 'core01ebvisit': 1, 'checkautologin': 1, 'country_select': 1, 'nsprod_webinfa_lb': 1, 'dd_rum_test': 1, 'cnzzdata30035857': 1, '_pk_ses..74df': 1, 'enablehomescreen': 1, 'bbt-purge-redirect': 1, 'tartaucitron': 1, '132ed4cc8ba081517d937ba053cd0076': 1, 'ly_segs': 1, '_pk_ses.1.1bae': 1, 'affiliate': 1, 'selectcountry': 1, '__codnp': 1, 'hclocation': 1, 'ssochk': 1, 'ageverify': 1, 'jv_bara_tpl': 1, 'phone_number_group': 1, 'jam_art_cnt': 1, 'frosmo_quickcontext': 1, 'springug': 1, 'sanofi-cp-l#lang': 1, '_pk_ses.1.475d': 1, 'lb-persist': 1, '_pk_ses.291.99c5': 1, 'ultimate-modal-bd5229bd7b4444068a5b2903cafba42b': 1, 'ts0167e041': 1, 'currentwebsitelanguage': 1, '_cb_ls': 1, 'virtuemart': 1, 'dosomethingonlyonce': 1, '_gcnb': 1, '_fun_pageview': 1, 'myosotis': 1, 'ssessf251a5989cf3a949f59d4dd68d8320d6': 1, '_pk_ses.1.b7d4': 1, 'readspeakersettings': 1, 'wires': 1, 'cnzzdata3280940': 1, 'whitecallback_mainpage': 1, '_pk_ses.111.81b7': 1, 'mflang': 1, 'l2bu6t7_dc': 1, 'pt_70c21ded': 1, 'amcv_98dc8f7954bd115c0a4c98bc%40adobeorg': 1, '45fb1d4f5e7d287d7bebee4d5bcfa257': 1, 'mp_mixpanel__c': 1, '_ym_visorc_56563003': 1, 'gs-status': 1, 'woocommerce_items_in_cart': 1, 'tl_visitor_sess': 1, 'wpdp': 1, 'ai_user': 1, '_pelocale': 1, 'imooc_isnew_ct': 1, 'fr_landing': 1, '_qddamta_4008000011': 1, 'lcmhistory': 1, 'lbconpers': 1, 'uvsl': 1, 'headersearchrecentitems': 1, 'corporateprivacylevel': 1, 'smcookflashenabled': 1, 'vs': 1, 'waqi-w-history': 1, 'bigipserverwww-80-pool': 1, 'incap_ses_873_1854423': 1, 'ciq_visited': 1, 'lses': 1, '66eb_2132_lastact': 1, 's_pltp': 1, 'din-de': 1, '_pk_ses.3.a4f6': 1, 'new_user': 1, '_pk_ses.1.9482': 1, 'ts01c41ce9': 1, 'qingcloudelb': 1, 'global_visit_counter': 1, 'beget': 1, 'sajssdk_2015_cross_new_user': 1, '_pk_ses.19.0c93': 1, 'error_auth': 1, 'bmwdtm_hq_vs': 1, 'aol_ref_url': 1, 'last_time_visit': 1, 'databasebtndesc': 1, 'returntoprevurl': 1, '_ym_visorc_18538579': 1, '_st_last_depth_8tgb8o2zk': 1, '_pk_ses.44.a4d7': 1, '_pk_ses.14.4a37': 1, 'f8e927f3d4d97c4ae29ea6bd6b705d64': 1, 'fbm_lang': 1, 'havadurumumerkezino': 1, 'ts0142aef9': 1, 'ja_teline_iv_tpl': 1, 'groznax': 1, 'ddfd0a1cc13d75de8d91e6103a274c9e': 1, 'pswl_callback_form': 1, 'aam_last': 1, 'dbmfp': 1, 'cnzzdata452385': 1, 'sb_localip': 1, 'incap_ses_151_112006': 1, '_pk_ses.1.0e9c': 1, 'utm_term': 1, 'ecm': 1, 'ts016240cd': 1, 'cp_currency': 1, 'tmi': 1, 'nsc_mpw-qspe-bqq-iuuq-6081-mc': 1, 'wmp4me_callback': 1, 'wds_random': 1, 'cnzzdata1253488264': 1, 'tk_r3d': 1, 'ami-international': 1, 'lskey[c]questionreturnto': 1, 'default_currency_set': 1, 'ts01dcaa38': 1, 'visit_image': 1, 'cnzzdata1255304217': 1, 'vaya_isrefreship': 1, 'sdtiugdoelndt': 1, 'sc.intg': 1, '__aaxsc': 1, 'incap_ses_801_619968': 1, 'zmv': 1, 'bigipserver~servred~pool_www_80': 1, 'dw_tlswarning': 1, 'sc_is_visitor_unique': 1, 'googtrans': 1, 'poptin_old_user': 1, 'v29s_4813_lastact': 1, 'ts0190bdac': 1, 'referer': 1, 'amcv_5e930f035d0d748a0a495ed1%40adobeorg': 1, '31207dede': 1, 'responsiveconditional_initialbreakpoint': 1, 'jphistory': 1, '_pk_ses.60.683f': 1, 'referral_site': 1, 'prism_650002305': 1, 'car16888_set_iscity': 1, 'akacd_prod_very_rebuild': 1, 'cnzzdata1275250024': 1, 'ezouspvv': 1, '_zero_ss': 1, 'incap_ses_452_143270': 1, 'dh_user': 1, 'unv-j24buwnsyz2tud2x': 1, 'dwanonymous_b92add830bd3a163dee6a9f6ad47aa96': 1, 'language_redirect': 1, '_one_mtiwmdmy': 1, 'sparkkey': 1, 'amcv_df38e5285913269b0a495e5a%40adobeorg': 1, 'cnzzdata1278732873': 1, '.aspnetcore.antiforgery.24hzkt8zcek': 1, 'kusu_tipp': 1, 'fonts_loaded': 1, 'x-mapping-oojoogdp': 1, 'cnzzdata2803470': 1, 'wap_last_event': 1, '_pk_ses.1.c560': 1, '03acea305cd8d67645a0ba773c3b171d': 1, 'usermgmt_user_activity': 1, 'rf': 1, '_segmentgroup': 1, '_ctout45879': 1, 'ipp_key': 1, 'eu_popup_status': 1, 'bigipserverweb-external.app~web-external_pool': 1, 'pushvisitscount': 1, '_ducp': 1, '_sp_v1_opt': 1, '44a7ca9e027b421346eaa5997bb17058': 1, 's_lv_s': 1, '_pk_ses.2.8480': 1, 'incap_ses_1185_2226266': 1, 'vtsrc': 1, 'nrvdk_sess': 1, 'gig_bootstrap_3_efi5pvlbj5djkwwgq_oece8a04mfg3cfdo_lb0kbhdih1jf5jbw22aih50qs4zik': 1, 'maxarmodaldigitalglobe1': 1, 'exp_super_search_history': 1, '_sp_ises.be4a': 1, 'qt_utime': 1, '__csc_es_5baa5722d605b1000e70c300': 1, 'kolopornb': 1, 'sbcart': 1, 'anxs': 1, 'ts01555f45': 1, 'omseen-mzdkdk6pyrlxi493j27e': 1, 'mp_e3bcd60345d68776bca5daa67d6ee72e_mixpanel': 1, 'app_referrer': 1, 'r_url': 1, '_sp_ises.3b6b': 1, 'elcom_preferredregion': 1, '__csrf_token': 1, 'cnzzdata1256588852': 1, '1becd8a74235a2a27e54519bdd909cf7': 1, '455d70bef19518490e7e8945796375f3': 1, 'lrelepoppi': 1, '_pk_ses.1.8cfb': 1, 'verbraucher-schlichter': 1, 'mefeedia': 1, 'period': 1, 'g1_preheader_open_on_startup': 1, '_bb_t': 1, 'usercode': 1, 'themify_popup_page_view': 1, 'collection_folder': 1, 'ja_nex_tpl': 1, '_pk_ses.9.d4b8': 1, 'cvn': 1, '107b2062b8efaf6e4a0baa90bb6a7314': 1, 'gt3-window-size': 1, 'first_fixed_m': 1, 'cotucruluc': 1, 'authenticationchecked': 1, 'mnt_2._vr_3': 1, 'os_visitor': 1, 'epubaftermenu': 1, 'lc': 1, 'hmy_jc': 1, '_stuu': 1, '_ck': 1, 'de6ebeda537361bfe7c4175a9fc82024': 1, 'bitrix_sm_loc_character_code': 1, 'sc_v28': 1, 'd8d03a945be533a5a8b4fca0784e973b': 1, 'emailnewsletterask': 1, '_pk_ses.18.bb43': 1, 'inbound_fields': 1, '_grf_vis': 1, '_dvs': 1, '_pk_ses.1.1cea': 1, 'cp5xkn6qldfwuc': 1, '_pk_ses.3.aa3b': 1, 'eloqua': 1, 'hpnorikae002': 1, 'langcode_': 1, 'welcomed': 1, '_trmcpage': 1, 'mp_29ffa32216b16bc981b8bf6d55b43207_mixpanel': 1, 'apbct_visible_fields_count': 1, 'acc_segment': 1, 'pornwixa': 1, '__ib2pgvar_19332': 1, 'akavpau_vp': 1, 'switchclass-acm243': 1, 'prism_610298026': 1, 'sl_classkey': 1, 'incomaker_p': 1, 'ngsecure': 1, 'fesax': 1, 'mosvisitor': 1, 'nsc_joiuqt32d20nzgwdto2syqdbsrgz0bm': 1, '1c9b10bfc2262239d18a8343872f95a5': 1, 'pornerona': 1, 'al_sess-s': 1, 'is-eu': 1, 'c1a6296a8e2a6e0781fb0fa68a6196b6': 1, 'popup_65971': 1, '_pk_ses.6.b2a5': 1, 'paddlejs_checkout_variant': 1, 'snc': 1, '69xpornb': 1, 'incap_ses_373_777642': 1, 'audiencetypes': 1, 'viu_contact_context': 1, 'unoosa-nslb': 1, 'ts4d417b09_75': 1, '_lr_uf_-hgt0uu': 1, 'pxvb': 1, 'pornbosb': 1, '_pk_ses.39.d9e9': 1, 'pornvdsa': 1, 'dca858f2f6f664303d6c8598902270602f261d40e7c2c894578496a66fafb': 1, 'playwirepageviews': 1, 'ts01d55b26': 1, 'ekd-route': 1, 'ih66xj': 1, '6jru_efa9_sendmail': 1, '_pk_ses.47.ac53': 1, '5f8bad7fbd554ab0b23236ad4ba1fef4074e46b3a8e674023199ca36': 1, '_pk_ses.1.7321': 1, 'cmi_location_name': 1, 'user_country_name_production': 1, 'options': 1, 'e4d59541a168f7f4d5b4e089b008e0648c5de6b403ec24ba3e6a6ac9324': 1, 'showtoptipspublishdate': 1, '_cap': 1, 'utm_content': 1, 'x-lbp': 1, 'warning18': 1, 'devicesize': 1, 'spb_image_resizer_pixel_ratio': 1, 'zk': 1, 'stcharles-audience': 1, 'agency': 1, 'showmodalnewportal': 1, 'mf_ld': 1, 'ir_10072': 1, 'a525b4f0856a64962abcbe846d6d4414': 1, 'articles-visitor': 1, 'awsalbtgcors': 1, 'app_lang': 1, 'nwcompname': 1, '_xhr_verified_': 1, 'nsc_wjq_shvxfc_qspe_fyu*ttm': 1, 'tokens': 1, 'group': 1, '_pk_ses.42.4c99': 1, 'amcv_41833df75a550b4b0a495da6%40adobeorg': 1, 'shorturl': 1, '_pk_ses.129.56ce': 1, 'wp_gdbbx_tracking_activity': 1, 'dc.gses': 1, 'zf_lastactivity': 1, 'gujfirstimp': 1, 'incap_ses_457_638288': 1, 'gr_region': 1, 'nrjmanager': 1, 'hbr7_vip': 1, 'wbfp2': 1, 'barilla.tracking': 1, 'allerm_seg': 1, '_wg_dlk_33e697857c1aa6237c317daf1ea82546': 1, 'aiovg_rand_seed': 1, '_mod_cnt': 1, 'ulp-onload-5urd81d8mli72fld': 1, '_pk_ses.1.ac7e': 1, 'localization': 1, 'b2wdevicetype': 1, 'authorhouse#lang': 1, '__qfca': 1, 'bigipserverdvdtalk-web_pool': 1, '_pk_ses.1.4a7a': 1, 'fco2r34': 1, '_qddamta_800061063': 1, '_awt': 1, 'chatlio_at--1be3f643-71c5-4400-773c-35afc7d12157': 1, 'tnsitestats': 1, 'd1011a05e4252fdb6a857d8789465e5c': 1, 'front_language': 1, 'elgg': 1, 'dsnsep': 1, 'd5c88386e031a31c54b8c5cdac9ce4eb': 1, 'pipay_ext': 1, 'ignore-ip2domain': 1, 'critical-css': 1, 'gig_bootstrap_3_0x8o0gruubgeg9jbq1pk31d-rddab2ybujy40sj82yktcoi1p4__3q8p5f7spe_f': 1, '883f27ce0bcd47c1e0617d': 1, 'plumbr_user_tracker': 1, '_cavceoinfo': 1, 'atlcohort': 1, 'iscm': 1, 'c340a': 1, 'stc113443': 1, 'ds_l': 1, 'ir_9940': 1, 'amss': 1, 'dep': 1, '_pk_ses.1.cf09': 1, 'tournumber': 1, 'prism_223603823': 1, 'ac': 1, '_pk_ses.6.bdd1': 1, 'unhcrmain': 1, 's_vs': 1, '43da78374967bb92245cc3339d2f2f28': 1, 'wordpress_google_apps_login': 1, '_pk_ses.5.45a3': 1, '__unic_npa': 1, 'si': 1, '2a0d2363701f23f8a75028924a3af643': 1, 'aelia_cs_selected_currency': 1, 'incap_ses_1185_258278': 1, 'belvedere_last_program': 1, 'it-recht-kanzlei': 1, 'bigipserverpatremhn': 1, '158a665dfb79dc54e344e21a3a9ab008': 1, 'ccma_matr_add': 1, '4d831d0ead7be387f64564db93c940fe': 1, 'waldo_region': 1, 'ts0167ac6d': 1, '01e8b3b356dfda8608d36729b875cb54_vc': 1, 'secure-coolblue': 1, 'pep_oauth_token_expiration': 1, 'l_url': 1, 'sessc82a2fda23268e7b36e88c7a9176de39': 1, '_pk_ses.20.40c7': 1, 'alert_modal': 1, 'wp35226': 1, 'ad_ban240_hits_11': 1, 'displaypopupinfodate-2070': 1, '_pk_ses.1.0c97': 1, 'amcv_9c3940d7546235980a4c98a2%40adobeorg': 1, '_mst': 1, 'webfonts-loaded': 1, 'acw_tc': 1, 'royalexappgwcors': 1, 'newuser': 1, '_smvs': 1, 'uarssxvt': 1, 'aslbsa': 1, 'ezoab_92406': 1, 'amcvs_22633bc75244551b0a490d4d%40adobeorg': 1, 'ra_journal': 1, 'tamiya_cms': 1, 'ezds': 1, 'cart_sig': 1, 'nsc_wjq_kpctec.dpn_ttm': 1, '_pulse2data': 1, 'b908f7d1f5c321b8844083e2b4094626': 1, 'dwanonymous_56950516ebe71588e907d744842ca90b': 1, 'as': 1, '__antixsrftokenonssl': 1, '_pk_ses.1.0473': 1, '_pmpk_trk': 1, 'clientkey': 1, 'aiadb_pv': 1, 'ba65e59a1cd71e4e0ee27a9d210ba4a6': 1, '4dhw_abec_lastact': 1, 'pscurrentstate': 1, 'nt_welcomed': 1, 'dis-remote-addr': 1}\n"
     ]
    }
   ],
   "source": [
    "key_words = {\n",
    "    'gtag': [], # Google Tag\n",
    "    'gat': [], # Google Analytics\n",
    "    '_ga': [], # Google Analytics\n",
    "    'gtm': [], # Google Tag Manager\n",
    "    '__auc': [], # Targeting/Advertising \n",
    "    'session': [], \n",
    "    'geo': [], # Location\n",
    "    'fbp': [], # Facebook Pixel\n",
    "    'id': [], # Identifier\n",
    "    'gdpr': [], \n",
    "    'consent': [], \n",
    "    'cookie': []\n",
    "}\n",
    "\n",
    "\n",
    "no_id = []\n",
    "for index, row in a_df.iterrows():\n",
    "    cookie = row['cookie_first'][0]\n",
    "    for key, value in cookie.items():\n",
    "        if key == 'name':\n",
    "            found = False\n",
    "            for word in key_words.keys():\n",
    "                if word in value.lower():\n",
    "                    key_words[word].append(cookie)\n",
    "                    found = True\n",
    "                    continue\n",
    "            if not found:\n",
    "                no_id.append(value.lower())\n",
    "\n",
    "no_count = {}\n",
    "for name in no_id:\n",
    "    if name in no_count.keys():\n",
    "        no_count[name] += 1\n",
    "    else:\n",
    "        no_count[name] = 1\n",
    "                \n",
    "# Print the counts\n",
    "for key, value in key_words.items():\n",
    "    print(key, ':', len(key_words[key]))\n",
    "    \n",
    "no_count = {k: v for k, v in sorted(no_count.items(), key=lambda item: item[1], reverse=True)}\n",
    "print(no_count)"
   ]
  },
  {
   "cell_type": "code",
   "execution_count": 10,
   "metadata": {},
   "outputs": [],
   "source": [
    "def get_cookie_stats(url):\n",
    "    user_agent = 'Mozilla/5.0 (Windows; U; Windows NT 5.1; en-US; rv:1.9.0.7) Gecko/2009021910 Firefox/3.0.7'\n",
    "    headers={'User-Agent':user_agent,} \n",
    "    try:\n",
    "        request=urllib.request.Request(url,None,headers)\n",
    "        response = urllib.request.urlopen(request)\n",
    "        data = str(response.read())\n",
    "        if \"no matches\" in data:\n",
    "            return False\n",
    "        elif \"not yet any general information\" in data:\n",
    "            return False\n",
    "        else:\n",
    "            return data  \n",
    "    except Exception as e:\n",
    "        return False\n",
    "        print(e)"
   ]
  },
  {
   "cell_type": "code",
   "execution_count": 15,
   "metadata": {},
   "outputs": [],
   "source": [
    "cookie_stats = pd.DataFrame(columns=['name', \n",
    "                                     'use', \n",
    "                                     'websites', \n",
    "                                     'hosts', \n",
    "                                     'first_party', \n",
    "                                     'third_party', \n",
    "                                     'persistent', \n",
    "                                     'life_span', \n",
    "                                     'session'])"
   ]
  },
  {
   "cell_type": "code",
   "execution_count": 16,
   "metadata": {},
   "outputs": [
    {
     "data": {
      "application/vnd.jupyter.widget-view+json": {
       "model_id": "bdb91987f05a4da18f2a6e54da890ad7",
       "version_major": 2,
       "version_minor": 0
      },
      "text/plain": [
       "HBox(children=(FloatProgress(value=0.0, max=1953.0), HTML(value='')))"
      ]
     },
     "metadata": {},
     "output_type": "display_data"
    },
    {
     "name": "stdout",
     "output_type": "stream",
     "text": [
      "\n"
     ]
    }
   ],
   "source": [
    "error_count = 0\n",
    "\n",
    "for name in tqdm(no_count.keys()):\n",
    "    if name not in list(cookie_stats['name']):\n",
    "#         print(name, end=': ')\n",
    "        url = 'https://cookiepedia.co.uk/cookies/' + name\n",
    "        \n",
    "        data = get_cookie_stats(url)\n",
    "        \n",
    "        if data == False:\n",
    "            error_count += 1\n",
    "            continue\n",
    "            \n",
    "        ps = re.split('<p>|</p>', data)\n",
    "        matching = [p for p in ps if 'main purpose' in p]\n",
    "        usage = re.split('<strong>|</strong>', matching[0])[1]\n",
    "\n",
    "        stats = re.split('<div class=\"cookie-stats\">|</div>', data)[8]\n",
    "        stats = re.split('<span>|</span>', stats)\n",
    "\n",
    "        c_s = []\n",
    "        if len(stats) > 13:\n",
    "            c_s.append(name)\n",
    "            c_s.append(usage)\n",
    "            c_s.append(stats[1]) \n",
    "            c_s.append(stats[3])\n",
    "            c_s.append(stats[5])\n",
    "            c_s.append(stats[7])\n",
    "            c_s.append(stats[9])\n",
    "            c_s.append(stats[11])\n",
    "            c_s.append(stats[13])\n",
    "            cookie_stats.loc[len(cookie_stats)] = c_s\n",
    "        else:\n",
    "            print(\"not enough\", name)\n",
    "            \n",
    "            \n",
    "#         print(usage)"
   ]
  },
  {
   "cell_type": "code",
   "execution_count": 17,
   "metadata": {},
   "outputs": [
    {
     "data": {
      "text/plain": [
       "array(['Functionality', 'Targeting/Advertising', 'Performance',\n",
       "       'Strictly Necessary', 'Unknown'], dtype=object)"
      ]
     },
     "execution_count": 17,
     "metadata": {},
     "output_type": "execute_result"
    }
   ],
   "source": [
    "cookie_stats['use'].unique()"
   ]
  },
  {
   "cell_type": "code",
   "execution_count": 18,
   "metadata": {},
   "outputs": [
    {
     "data": {
      "text/html": [
       "<div>\n",
       "<style scoped>\n",
       "    .dataframe tbody tr th:only-of-type {\n",
       "        vertical-align: middle;\n",
       "    }\n",
       "\n",
       "    .dataframe tbody tr th {\n",
       "        vertical-align: top;\n",
       "    }\n",
       "\n",
       "    .dataframe thead th {\n",
       "        text-align: right;\n",
       "    }\n",
       "</style>\n",
       "<table border=\"1\" class=\"dataframe\">\n",
       "  <thead>\n",
       "    <tr style=\"text-align: right;\">\n",
       "      <th></th>\n",
       "      <th>name</th>\n",
       "      <th>use</th>\n",
       "      <th>websites</th>\n",
       "      <th>hosts</th>\n",
       "      <th>first_party</th>\n",
       "      <th>third_party</th>\n",
       "      <th>persistent</th>\n",
       "      <th>life_span</th>\n",
       "      <th>session</th>\n",
       "    </tr>\n",
       "  </thead>\n",
       "  <tbody>\n",
       "    <tr>\n",
       "      <th>0</th>\n",
       "      <td>has_js</td>\n",
       "      <td>Functionality</td>\n",
       "      <td>7,727</td>\n",
       "      <td>8,139</td>\n",
       "      <td>8,432</td>\n",
       "      <td>955</td>\n",
       "      <td>409</td>\n",
       "      <td>262,816</td>\n",
       "      <td>8,978</td>\n",
       "    </tr>\n",
       "    <tr>\n",
       "      <th>1</th>\n",
       "      <td>1p_jar</td>\n",
       "      <td>Targeting/Advertising</td>\n",
       "      <td>3,309</td>\n",
       "      <td>1,446</td>\n",
       "      <td>68</td>\n",
       "      <td>6,600</td>\n",
       "      <td>6,662</td>\n",
       "      <td>1,678,007</td>\n",
       "      <td>6</td>\n",
       "    </tr>\n",
       "    <tr>\n",
       "      <th>2</th>\n",
       "      <td>awsalbcors</td>\n",
       "      <td>Targeting/Advertising</td>\n",
       "      <td>40,064</td>\n",
       "      <td>50,997</td>\n",
       "      <td>218,862</td>\n",
       "      <td>86,282</td>\n",
       "      <td>211,733</td>\n",
       "      <td>262,993</td>\n",
       "      <td>93,411</td>\n",
       "    </tr>\n",
       "    <tr>\n",
       "      <th>3</th>\n",
       "      <td>___utmvc</td>\n",
       "      <td>Functionality</td>\n",
       "      <td>3,534</td>\n",
       "      <td>3,418</td>\n",
       "      <td>3,449</td>\n",
       "      <td>648</td>\n",
       "      <td>4,097</td>\n",
       "      <td>2,914,860</td>\n",
       "      <td>0</td>\n",
       "    </tr>\n",
       "    <tr>\n",
       "      <th>4</th>\n",
       "      <td>s_cc</td>\n",
       "      <td>Performance</td>\n",
       "      <td>13,465</td>\n",
       "      <td>9,126</td>\n",
       "      <td>15,068</td>\n",
       "      <td>3,631</td>\n",
       "      <td>3,649</td>\n",
       "      <td>2,878,638</td>\n",
       "      <td>15,050</td>\n",
       "    </tr>\n",
       "    <tr>\n",
       "      <th>...</th>\n",
       "      <td>...</td>\n",
       "      <td>...</td>\n",
       "      <td>...</td>\n",
       "      <td>...</td>\n",
       "      <td>...</td>\n",
       "      <td>...</td>\n",
       "      <td>...</td>\n",
       "      <td>...</td>\n",
       "      <td>...</td>\n",
       "    </tr>\n",
       "    <tr>\n",
       "      <th>258</th>\n",
       "      <td>_pk_ses.1.0c97</td>\n",
       "      <td>Performance</td>\n",
       "      <td>4,350</td>\n",
       "      <td>4,556</td>\n",
       "      <td>4,514</td>\n",
       "      <td>1,424</td>\n",
       "      <td>5,878</td>\n",
       "      <td>506,909</td>\n",
       "      <td>60</td>\n",
       "    </tr>\n",
       "    <tr>\n",
       "      <th>259</th>\n",
       "      <td>cart_sig</td>\n",
       "      <td>Strictly Necessary</td>\n",
       "      <td>1,442</td>\n",
       "      <td>1,429</td>\n",
       "      <td>1,418</td>\n",
       "      <td>90</td>\n",
       "      <td>1,508</td>\n",
       "      <td>4,003</td>\n",
       "      <td>0</td>\n",
       "    </tr>\n",
       "    <tr>\n",
       "      <th>260</th>\n",
       "      <td>dwanonymous_56950516ebe71588e907d744842ca90b</td>\n",
       "      <td>Targeting/Advertising</td>\n",
       "      <td>1,000</td>\n",
       "      <td>998</td>\n",
       "      <td>1,094</td>\n",
       "      <td>232</td>\n",
       "      <td>1,322</td>\n",
       "      <td>52,305</td>\n",
       "      <td>4</td>\n",
       "    </tr>\n",
       "    <tr>\n",
       "      <th>261</th>\n",
       "      <td>as</td>\n",
       "      <td>Targeting/Advertising</td>\n",
       "      <td>326</td>\n",
       "      <td>62</td>\n",
       "      <td>41</td>\n",
       "      <td>306</td>\n",
       "      <td>172</td>\n",
       "      <td>500,003</td>\n",
       "      <td>175</td>\n",
       "    </tr>\n",
       "    <tr>\n",
       "      <th>262</th>\n",
       "      <td>_pk_ses.1.0473</td>\n",
       "      <td>Performance</td>\n",
       "      <td>4,350</td>\n",
       "      <td>4,556</td>\n",
       "      <td>4,514</td>\n",
       "      <td>1,424</td>\n",
       "      <td>5,878</td>\n",
       "      <td>506,909</td>\n",
       "      <td>60</td>\n",
       "    </tr>\n",
       "  </tbody>\n",
       "</table>\n",
       "<p>263 rows × 9 columns</p>\n",
       "</div>"
      ],
      "text/plain": [
       "                                             name                    use  \\\n",
       "0                                          has_js          Functionality   \n",
       "1                                          1p_jar  Targeting/Advertising   \n",
       "2                                      awsalbcors  Targeting/Advertising   \n",
       "3                                        ___utmvc          Functionality   \n",
       "4                                            s_cc            Performance   \n",
       "..                                            ...                    ...   \n",
       "258                                _pk_ses.1.0c97            Performance   \n",
       "259                                      cart_sig     Strictly Necessary   \n",
       "260  dwanonymous_56950516ebe71588e907d744842ca90b  Targeting/Advertising   \n",
       "261                                            as  Targeting/Advertising   \n",
       "262                                _pk_ses.1.0473            Performance   \n",
       "\n",
       "    websites   hosts first_party third_party persistent  life_span session  \n",
       "0      7,727   8,139       8,432         955        409    262,816   8,978  \n",
       "1      3,309   1,446          68       6,600      6,662  1,678,007       6  \n",
       "2     40,064  50,997     218,862      86,282    211,733    262,993  93,411  \n",
       "3      3,534   3,418       3,449         648      4,097  2,914,860       0  \n",
       "4     13,465   9,126      15,068       3,631      3,649  2,878,638  15,050  \n",
       "..       ...     ...         ...         ...        ...        ...     ...  \n",
       "258    4,350   4,556       4,514       1,424      5,878    506,909      60  \n",
       "259    1,442   1,429       1,418          90      1,508      4,003       0  \n",
       "260    1,000     998       1,094         232      1,322     52,305       4  \n",
       "261      326      62          41         306        172    500,003     175  \n",
       "262    4,350   4,556       4,514       1,424      5,878    506,909      60  \n",
       "\n",
       "[263 rows x 9 columns]"
      ]
     },
     "execution_count": 18,
     "metadata": {},
     "output_type": "execute_result"
    }
   ],
   "source": [
    "cookie_stats"
   ]
  },
  {
   "cell_type": "markdown",
   "metadata": {},
   "source": [
    "### Accepted cookies"
   ]
  },
  {
   "cell_type": "code",
   "execution_count": 26,
   "metadata": {},
   "outputs": [],
   "source": [
    "cookie_stats_2 = pd.DataFrame(columns=['name', \n",
    "                                     'use', \n",
    "                                     'websites', \n",
    "                                     'hosts', \n",
    "                                     'first_party', \n",
    "                                     'third_party', \n",
    "                                     'persistent', \n",
    "                                     'life_span', \n",
    "                                     'session'])"
   ]
  },
  {
   "cell_type": "code",
   "execution_count": 32,
   "metadata": {},
   "outputs": [
    {
     "data": {
      "application/vnd.jupyter.widget-view+json": {
       "model_id": "822b711eac7b4b6197eb12061a09c2d5",
       "version_major": 2,
       "version_minor": 0
      },
      "text/plain": [
       "HBox(children=(FloatProgress(value=0.0, max=3019.0), HTML(value='')))"
      ]
     },
     "metadata": {},
     "output_type": "display_data"
    },
    {
     "ename": "KeyboardInterrupt",
     "evalue": "",
     "output_type": "error",
     "traceback": [
      "\u001b[0;31m---------------------------------------------------------------------------\u001b[0m",
      "\u001b[0;31mKeyboardInterrupt\u001b[0m                         Traceback (most recent call last)",
      "\u001b[0;32m<ipython-input-32-91b744cfa9e6>\u001b[0m in \u001b[0;36m<module>\u001b[0;34m\u001b[0m\n\u001b[1;32m     16\u001b[0m         \u001b[0murl\u001b[0m \u001b[0;34m=\u001b[0m \u001b[0;34m'https://cookiepedia.co.uk/cookies/'\u001b[0m \u001b[0;34m+\u001b[0m \u001b[0mname\u001b[0m\u001b[0;34m\u001b[0m\u001b[0;34m\u001b[0m\u001b[0m\n\u001b[1;32m     17\u001b[0m \u001b[0;34m\u001b[0m\u001b[0m\n\u001b[0;32m---> 18\u001b[0;31m         \u001b[0mdata\u001b[0m \u001b[0;34m=\u001b[0m \u001b[0mget_cookie_stats\u001b[0m\u001b[0;34m(\u001b[0m\u001b[0murl\u001b[0m\u001b[0;34m)\u001b[0m\u001b[0;34m\u001b[0m\u001b[0;34m\u001b[0m\u001b[0m\n\u001b[0m\u001b[1;32m     19\u001b[0m \u001b[0;34m\u001b[0m\u001b[0m\n\u001b[1;32m     20\u001b[0m         \u001b[0;32mif\u001b[0m \u001b[0mdata\u001b[0m \u001b[0;34m==\u001b[0m \u001b[0;32mFalse\u001b[0m\u001b[0;34m:\u001b[0m\u001b[0;34m\u001b[0m\u001b[0;34m\u001b[0m\u001b[0m\n",
      "\u001b[0;32m<ipython-input-10-f5001507dc1e>\u001b[0m in \u001b[0;36mget_cookie_stats\u001b[0;34m(url)\u001b[0m\n\u001b[1;32m      4\u001b[0m     \u001b[0;32mtry\u001b[0m\u001b[0;34m:\u001b[0m\u001b[0;34m\u001b[0m\u001b[0;34m\u001b[0m\u001b[0m\n\u001b[1;32m      5\u001b[0m         \u001b[0mrequest\u001b[0m\u001b[0;34m=\u001b[0m\u001b[0murllib\u001b[0m\u001b[0;34m.\u001b[0m\u001b[0mrequest\u001b[0m\u001b[0;34m.\u001b[0m\u001b[0mRequest\u001b[0m\u001b[0;34m(\u001b[0m\u001b[0murl\u001b[0m\u001b[0;34m,\u001b[0m\u001b[0;32mNone\u001b[0m\u001b[0;34m,\u001b[0m\u001b[0mheaders\u001b[0m\u001b[0;34m)\u001b[0m\u001b[0;34m\u001b[0m\u001b[0;34m\u001b[0m\u001b[0m\n\u001b[0;32m----> 6\u001b[0;31m         \u001b[0mresponse\u001b[0m \u001b[0;34m=\u001b[0m \u001b[0murllib\u001b[0m\u001b[0;34m.\u001b[0m\u001b[0mrequest\u001b[0m\u001b[0;34m.\u001b[0m\u001b[0murlopen\u001b[0m\u001b[0;34m(\u001b[0m\u001b[0mrequest\u001b[0m\u001b[0;34m)\u001b[0m\u001b[0;34m\u001b[0m\u001b[0;34m\u001b[0m\u001b[0m\n\u001b[0m\u001b[1;32m      7\u001b[0m         \u001b[0mdata\u001b[0m \u001b[0;34m=\u001b[0m \u001b[0mstr\u001b[0m\u001b[0;34m(\u001b[0m\u001b[0mresponse\u001b[0m\u001b[0;34m.\u001b[0m\u001b[0mread\u001b[0m\u001b[0;34m(\u001b[0m\u001b[0;34m)\u001b[0m\u001b[0;34m)\u001b[0m\u001b[0;34m\u001b[0m\u001b[0;34m\u001b[0m\u001b[0m\n\u001b[1;32m      8\u001b[0m         \u001b[0;32mif\u001b[0m \u001b[0;34m\"no matches\"\u001b[0m \u001b[0;32min\u001b[0m \u001b[0mdata\u001b[0m\u001b[0;34m:\u001b[0m\u001b[0;34m\u001b[0m\u001b[0;34m\u001b[0m\u001b[0m\n",
      "\u001b[0;32m~/anaconda3/lib/python3.7/urllib/request.py\u001b[0m in \u001b[0;36murlopen\u001b[0;34m(url, data, timeout, cafile, capath, cadefault, context)\u001b[0m\n\u001b[1;32m    220\u001b[0m     \u001b[0;32melse\u001b[0m\u001b[0;34m:\u001b[0m\u001b[0;34m\u001b[0m\u001b[0;34m\u001b[0m\u001b[0m\n\u001b[1;32m    221\u001b[0m         \u001b[0mopener\u001b[0m \u001b[0;34m=\u001b[0m \u001b[0m_opener\u001b[0m\u001b[0;34m\u001b[0m\u001b[0;34m\u001b[0m\u001b[0m\n\u001b[0;32m--> 222\u001b[0;31m     \u001b[0;32mreturn\u001b[0m \u001b[0mopener\u001b[0m\u001b[0;34m.\u001b[0m\u001b[0mopen\u001b[0m\u001b[0;34m(\u001b[0m\u001b[0murl\u001b[0m\u001b[0;34m,\u001b[0m \u001b[0mdata\u001b[0m\u001b[0;34m,\u001b[0m \u001b[0mtimeout\u001b[0m\u001b[0;34m)\u001b[0m\u001b[0;34m\u001b[0m\u001b[0;34m\u001b[0m\u001b[0m\n\u001b[0m\u001b[1;32m    223\u001b[0m \u001b[0;34m\u001b[0m\u001b[0m\n\u001b[1;32m    224\u001b[0m \u001b[0;32mdef\u001b[0m \u001b[0minstall_opener\u001b[0m\u001b[0;34m(\u001b[0m\u001b[0mopener\u001b[0m\u001b[0;34m)\u001b[0m\u001b[0;34m:\u001b[0m\u001b[0;34m\u001b[0m\u001b[0;34m\u001b[0m\u001b[0m\n",
      "\u001b[0;32m~/anaconda3/lib/python3.7/urllib/request.py\u001b[0m in \u001b[0;36mopen\u001b[0;34m(self, fullurl, data, timeout)\u001b[0m\n\u001b[1;32m    523\u001b[0m             \u001b[0mreq\u001b[0m \u001b[0;34m=\u001b[0m \u001b[0mmeth\u001b[0m\u001b[0;34m(\u001b[0m\u001b[0mreq\u001b[0m\u001b[0;34m)\u001b[0m\u001b[0;34m\u001b[0m\u001b[0;34m\u001b[0m\u001b[0m\n\u001b[1;32m    524\u001b[0m \u001b[0;34m\u001b[0m\u001b[0m\n\u001b[0;32m--> 525\u001b[0;31m         \u001b[0mresponse\u001b[0m \u001b[0;34m=\u001b[0m \u001b[0mself\u001b[0m\u001b[0;34m.\u001b[0m\u001b[0m_open\u001b[0m\u001b[0;34m(\u001b[0m\u001b[0mreq\u001b[0m\u001b[0;34m,\u001b[0m \u001b[0mdata\u001b[0m\u001b[0;34m)\u001b[0m\u001b[0;34m\u001b[0m\u001b[0;34m\u001b[0m\u001b[0m\n\u001b[0m\u001b[1;32m    526\u001b[0m \u001b[0;34m\u001b[0m\u001b[0m\n\u001b[1;32m    527\u001b[0m         \u001b[0;31m# post-process response\u001b[0m\u001b[0;34m\u001b[0m\u001b[0;34m\u001b[0m\u001b[0;34m\u001b[0m\u001b[0m\n",
      "\u001b[0;32m~/anaconda3/lib/python3.7/urllib/request.py\u001b[0m in \u001b[0;36m_open\u001b[0;34m(self, req, data)\u001b[0m\n\u001b[1;32m    541\u001b[0m         \u001b[0mprotocol\u001b[0m \u001b[0;34m=\u001b[0m \u001b[0mreq\u001b[0m\u001b[0;34m.\u001b[0m\u001b[0mtype\u001b[0m\u001b[0;34m\u001b[0m\u001b[0;34m\u001b[0m\u001b[0m\n\u001b[1;32m    542\u001b[0m         result = self._call_chain(self.handle_open, protocol, protocol +\n\u001b[0;32m--> 543\u001b[0;31m                                   '_open', req)\n\u001b[0m\u001b[1;32m    544\u001b[0m         \u001b[0;32mif\u001b[0m \u001b[0mresult\u001b[0m\u001b[0;34m:\u001b[0m\u001b[0;34m\u001b[0m\u001b[0;34m\u001b[0m\u001b[0m\n\u001b[1;32m    545\u001b[0m             \u001b[0;32mreturn\u001b[0m \u001b[0mresult\u001b[0m\u001b[0;34m\u001b[0m\u001b[0;34m\u001b[0m\u001b[0m\n",
      "\u001b[0;32m~/anaconda3/lib/python3.7/urllib/request.py\u001b[0m in \u001b[0;36m_call_chain\u001b[0;34m(self, chain, kind, meth_name, *args)\u001b[0m\n\u001b[1;32m    501\u001b[0m         \u001b[0;32mfor\u001b[0m \u001b[0mhandler\u001b[0m \u001b[0;32min\u001b[0m \u001b[0mhandlers\u001b[0m\u001b[0;34m:\u001b[0m\u001b[0;34m\u001b[0m\u001b[0;34m\u001b[0m\u001b[0m\n\u001b[1;32m    502\u001b[0m             \u001b[0mfunc\u001b[0m \u001b[0;34m=\u001b[0m \u001b[0mgetattr\u001b[0m\u001b[0;34m(\u001b[0m\u001b[0mhandler\u001b[0m\u001b[0;34m,\u001b[0m \u001b[0mmeth_name\u001b[0m\u001b[0;34m)\u001b[0m\u001b[0;34m\u001b[0m\u001b[0;34m\u001b[0m\u001b[0m\n\u001b[0;32m--> 503\u001b[0;31m             \u001b[0mresult\u001b[0m \u001b[0;34m=\u001b[0m \u001b[0mfunc\u001b[0m\u001b[0;34m(\u001b[0m\u001b[0;34m*\u001b[0m\u001b[0margs\u001b[0m\u001b[0;34m)\u001b[0m\u001b[0;34m\u001b[0m\u001b[0;34m\u001b[0m\u001b[0m\n\u001b[0m\u001b[1;32m    504\u001b[0m             \u001b[0;32mif\u001b[0m \u001b[0mresult\u001b[0m \u001b[0;32mis\u001b[0m \u001b[0;32mnot\u001b[0m \u001b[0;32mNone\u001b[0m\u001b[0;34m:\u001b[0m\u001b[0;34m\u001b[0m\u001b[0;34m\u001b[0m\u001b[0m\n\u001b[1;32m    505\u001b[0m                 \u001b[0;32mreturn\u001b[0m \u001b[0mresult\u001b[0m\u001b[0;34m\u001b[0m\u001b[0;34m\u001b[0m\u001b[0m\n",
      "\u001b[0;32m~/anaconda3/lib/python3.7/urllib/request.py\u001b[0m in \u001b[0;36mhttps_open\u001b[0;34m(self, req)\u001b[0m\n\u001b[1;32m   1358\u001b[0m         \u001b[0;32mdef\u001b[0m \u001b[0mhttps_open\u001b[0m\u001b[0;34m(\u001b[0m\u001b[0mself\u001b[0m\u001b[0;34m,\u001b[0m \u001b[0mreq\u001b[0m\u001b[0;34m)\u001b[0m\u001b[0;34m:\u001b[0m\u001b[0;34m\u001b[0m\u001b[0;34m\u001b[0m\u001b[0m\n\u001b[1;32m   1359\u001b[0m             return self.do_open(http.client.HTTPSConnection, req,\n\u001b[0;32m-> 1360\u001b[0;31m                 context=self._context, check_hostname=self._check_hostname)\n\u001b[0m\u001b[1;32m   1361\u001b[0m \u001b[0;34m\u001b[0m\u001b[0m\n\u001b[1;32m   1362\u001b[0m         \u001b[0mhttps_request\u001b[0m \u001b[0;34m=\u001b[0m \u001b[0mAbstractHTTPHandler\u001b[0m\u001b[0;34m.\u001b[0m\u001b[0mdo_request_\u001b[0m\u001b[0;34m\u001b[0m\u001b[0;34m\u001b[0m\u001b[0m\n",
      "\u001b[0;32m~/anaconda3/lib/python3.7/urllib/request.py\u001b[0m in \u001b[0;36mdo_open\u001b[0;34m(self, http_class, req, **http_conn_args)\u001b[0m\n\u001b[1;32m   1318\u001b[0m             \u001b[0;32mexcept\u001b[0m \u001b[0mOSError\u001b[0m \u001b[0;32mas\u001b[0m \u001b[0merr\u001b[0m\u001b[0;34m:\u001b[0m \u001b[0;31m# timeout error\u001b[0m\u001b[0;34m\u001b[0m\u001b[0;34m\u001b[0m\u001b[0m\n\u001b[1;32m   1319\u001b[0m                 \u001b[0;32mraise\u001b[0m \u001b[0mURLError\u001b[0m\u001b[0;34m(\u001b[0m\u001b[0merr\u001b[0m\u001b[0;34m)\u001b[0m\u001b[0;34m\u001b[0m\u001b[0;34m\u001b[0m\u001b[0m\n\u001b[0;32m-> 1320\u001b[0;31m             \u001b[0mr\u001b[0m \u001b[0;34m=\u001b[0m \u001b[0mh\u001b[0m\u001b[0;34m.\u001b[0m\u001b[0mgetresponse\u001b[0m\u001b[0;34m(\u001b[0m\u001b[0;34m)\u001b[0m\u001b[0;34m\u001b[0m\u001b[0;34m\u001b[0m\u001b[0m\n\u001b[0m\u001b[1;32m   1321\u001b[0m         \u001b[0;32mexcept\u001b[0m\u001b[0;34m:\u001b[0m\u001b[0;34m\u001b[0m\u001b[0;34m\u001b[0m\u001b[0m\n\u001b[1;32m   1322\u001b[0m             \u001b[0mh\u001b[0m\u001b[0;34m.\u001b[0m\u001b[0mclose\u001b[0m\u001b[0;34m(\u001b[0m\u001b[0;34m)\u001b[0m\u001b[0;34m\u001b[0m\u001b[0;34m\u001b[0m\u001b[0m\n",
      "\u001b[0;32m~/anaconda3/lib/python3.7/http/client.py\u001b[0m in \u001b[0;36mgetresponse\u001b[0;34m(self)\u001b[0m\n\u001b[1;32m   1334\u001b[0m         \u001b[0;32mtry\u001b[0m\u001b[0;34m:\u001b[0m\u001b[0;34m\u001b[0m\u001b[0;34m\u001b[0m\u001b[0m\n\u001b[1;32m   1335\u001b[0m             \u001b[0;32mtry\u001b[0m\u001b[0;34m:\u001b[0m\u001b[0;34m\u001b[0m\u001b[0;34m\u001b[0m\u001b[0m\n\u001b[0;32m-> 1336\u001b[0;31m                 \u001b[0mresponse\u001b[0m\u001b[0;34m.\u001b[0m\u001b[0mbegin\u001b[0m\u001b[0;34m(\u001b[0m\u001b[0;34m)\u001b[0m\u001b[0;34m\u001b[0m\u001b[0;34m\u001b[0m\u001b[0m\n\u001b[0m\u001b[1;32m   1337\u001b[0m             \u001b[0;32mexcept\u001b[0m \u001b[0mConnectionError\u001b[0m\u001b[0;34m:\u001b[0m\u001b[0;34m\u001b[0m\u001b[0;34m\u001b[0m\u001b[0m\n\u001b[1;32m   1338\u001b[0m                 \u001b[0mself\u001b[0m\u001b[0;34m.\u001b[0m\u001b[0mclose\u001b[0m\u001b[0;34m(\u001b[0m\u001b[0;34m)\u001b[0m\u001b[0;34m\u001b[0m\u001b[0;34m\u001b[0m\u001b[0m\n",
      "\u001b[0;32m~/anaconda3/lib/python3.7/http/client.py\u001b[0m in \u001b[0;36mbegin\u001b[0;34m(self)\u001b[0m\n\u001b[1;32m    304\u001b[0m         \u001b[0;31m# read until we get a non-100 response\u001b[0m\u001b[0;34m\u001b[0m\u001b[0;34m\u001b[0m\u001b[0;34m\u001b[0m\u001b[0m\n\u001b[1;32m    305\u001b[0m         \u001b[0;32mwhile\u001b[0m \u001b[0;32mTrue\u001b[0m\u001b[0;34m:\u001b[0m\u001b[0;34m\u001b[0m\u001b[0;34m\u001b[0m\u001b[0m\n\u001b[0;32m--> 306\u001b[0;31m             \u001b[0mversion\u001b[0m\u001b[0;34m,\u001b[0m \u001b[0mstatus\u001b[0m\u001b[0;34m,\u001b[0m \u001b[0mreason\u001b[0m \u001b[0;34m=\u001b[0m \u001b[0mself\u001b[0m\u001b[0;34m.\u001b[0m\u001b[0m_read_status\u001b[0m\u001b[0;34m(\u001b[0m\u001b[0;34m)\u001b[0m\u001b[0;34m\u001b[0m\u001b[0;34m\u001b[0m\u001b[0m\n\u001b[0m\u001b[1;32m    307\u001b[0m             \u001b[0;32mif\u001b[0m \u001b[0mstatus\u001b[0m \u001b[0;34m!=\u001b[0m \u001b[0mCONTINUE\u001b[0m\u001b[0;34m:\u001b[0m\u001b[0;34m\u001b[0m\u001b[0;34m\u001b[0m\u001b[0m\n\u001b[1;32m    308\u001b[0m                 \u001b[0;32mbreak\u001b[0m\u001b[0;34m\u001b[0m\u001b[0;34m\u001b[0m\u001b[0m\n",
      "\u001b[0;32m~/anaconda3/lib/python3.7/http/client.py\u001b[0m in \u001b[0;36m_read_status\u001b[0;34m(self)\u001b[0m\n\u001b[1;32m    265\u001b[0m \u001b[0;34m\u001b[0m\u001b[0m\n\u001b[1;32m    266\u001b[0m     \u001b[0;32mdef\u001b[0m \u001b[0m_read_status\u001b[0m\u001b[0;34m(\u001b[0m\u001b[0mself\u001b[0m\u001b[0;34m)\u001b[0m\u001b[0;34m:\u001b[0m\u001b[0;34m\u001b[0m\u001b[0;34m\u001b[0m\u001b[0m\n\u001b[0;32m--> 267\u001b[0;31m         \u001b[0mline\u001b[0m \u001b[0;34m=\u001b[0m \u001b[0mstr\u001b[0m\u001b[0;34m(\u001b[0m\u001b[0mself\u001b[0m\u001b[0;34m.\u001b[0m\u001b[0mfp\u001b[0m\u001b[0;34m.\u001b[0m\u001b[0mreadline\u001b[0m\u001b[0;34m(\u001b[0m\u001b[0m_MAXLINE\u001b[0m \u001b[0;34m+\u001b[0m \u001b[0;36m1\u001b[0m\u001b[0;34m)\u001b[0m\u001b[0;34m,\u001b[0m \u001b[0;34m\"iso-8859-1\"\u001b[0m\u001b[0;34m)\u001b[0m\u001b[0;34m\u001b[0m\u001b[0;34m\u001b[0m\u001b[0m\n\u001b[0m\u001b[1;32m    268\u001b[0m         \u001b[0;32mif\u001b[0m \u001b[0mlen\u001b[0m\u001b[0;34m(\u001b[0m\u001b[0mline\u001b[0m\u001b[0;34m)\u001b[0m \u001b[0;34m>\u001b[0m \u001b[0m_MAXLINE\u001b[0m\u001b[0;34m:\u001b[0m\u001b[0;34m\u001b[0m\u001b[0;34m\u001b[0m\u001b[0m\n\u001b[1;32m    269\u001b[0m             \u001b[0;32mraise\u001b[0m \u001b[0mLineTooLong\u001b[0m\u001b[0;34m(\u001b[0m\u001b[0;34m\"status line\"\u001b[0m\u001b[0;34m)\u001b[0m\u001b[0;34m\u001b[0m\u001b[0;34m\u001b[0m\u001b[0m\n",
      "\u001b[0;32m~/anaconda3/lib/python3.7/socket.py\u001b[0m in \u001b[0;36mreadinto\u001b[0;34m(self, b)\u001b[0m\n\u001b[1;32m    587\u001b[0m         \u001b[0;32mwhile\u001b[0m \u001b[0;32mTrue\u001b[0m\u001b[0;34m:\u001b[0m\u001b[0;34m\u001b[0m\u001b[0;34m\u001b[0m\u001b[0m\n\u001b[1;32m    588\u001b[0m             \u001b[0;32mtry\u001b[0m\u001b[0;34m:\u001b[0m\u001b[0;34m\u001b[0m\u001b[0;34m\u001b[0m\u001b[0m\n\u001b[0;32m--> 589\u001b[0;31m                 \u001b[0;32mreturn\u001b[0m \u001b[0mself\u001b[0m\u001b[0;34m.\u001b[0m\u001b[0m_sock\u001b[0m\u001b[0;34m.\u001b[0m\u001b[0mrecv_into\u001b[0m\u001b[0;34m(\u001b[0m\u001b[0mb\u001b[0m\u001b[0;34m)\u001b[0m\u001b[0;34m\u001b[0m\u001b[0;34m\u001b[0m\u001b[0m\n\u001b[0m\u001b[1;32m    590\u001b[0m             \u001b[0;32mexcept\u001b[0m \u001b[0mtimeout\u001b[0m\u001b[0;34m:\u001b[0m\u001b[0;34m\u001b[0m\u001b[0;34m\u001b[0m\u001b[0m\n\u001b[1;32m    591\u001b[0m                 \u001b[0mself\u001b[0m\u001b[0;34m.\u001b[0m\u001b[0m_timeout_occurred\u001b[0m \u001b[0;34m=\u001b[0m \u001b[0;32mTrue\u001b[0m\u001b[0;34m\u001b[0m\u001b[0;34m\u001b[0m\u001b[0m\n",
      "\u001b[0;32m~/anaconda3/lib/python3.7/ssl.py\u001b[0m in \u001b[0;36mrecv_into\u001b[0;34m(self, buffer, nbytes, flags)\u001b[0m\n\u001b[1;32m   1069\u001b[0m                   \u001b[0;34m\"non-zero flags not allowed in calls to recv_into() on %s\"\u001b[0m \u001b[0;34m%\u001b[0m\u001b[0;34m\u001b[0m\u001b[0;34m\u001b[0m\u001b[0m\n\u001b[1;32m   1070\u001b[0m                   self.__class__)\n\u001b[0;32m-> 1071\u001b[0;31m             \u001b[0;32mreturn\u001b[0m \u001b[0mself\u001b[0m\u001b[0;34m.\u001b[0m\u001b[0mread\u001b[0m\u001b[0;34m(\u001b[0m\u001b[0mnbytes\u001b[0m\u001b[0;34m,\u001b[0m \u001b[0mbuffer\u001b[0m\u001b[0;34m)\u001b[0m\u001b[0;34m\u001b[0m\u001b[0;34m\u001b[0m\u001b[0m\n\u001b[0m\u001b[1;32m   1072\u001b[0m         \u001b[0;32melse\u001b[0m\u001b[0;34m:\u001b[0m\u001b[0;34m\u001b[0m\u001b[0;34m\u001b[0m\u001b[0m\n\u001b[1;32m   1073\u001b[0m             \u001b[0;32mreturn\u001b[0m \u001b[0msuper\u001b[0m\u001b[0;34m(\u001b[0m\u001b[0;34m)\u001b[0m\u001b[0;34m.\u001b[0m\u001b[0mrecv_into\u001b[0m\u001b[0;34m(\u001b[0m\u001b[0mbuffer\u001b[0m\u001b[0;34m,\u001b[0m \u001b[0mnbytes\u001b[0m\u001b[0;34m,\u001b[0m \u001b[0mflags\u001b[0m\u001b[0;34m)\u001b[0m\u001b[0;34m\u001b[0m\u001b[0;34m\u001b[0m\u001b[0m\n",
      "\u001b[0;32m~/anaconda3/lib/python3.7/ssl.py\u001b[0m in \u001b[0;36mread\u001b[0;34m(self, len, buffer)\u001b[0m\n\u001b[1;32m    927\u001b[0m         \u001b[0;32mtry\u001b[0m\u001b[0;34m:\u001b[0m\u001b[0;34m\u001b[0m\u001b[0;34m\u001b[0m\u001b[0m\n\u001b[1;32m    928\u001b[0m             \u001b[0;32mif\u001b[0m \u001b[0mbuffer\u001b[0m \u001b[0;32mis\u001b[0m \u001b[0;32mnot\u001b[0m \u001b[0;32mNone\u001b[0m\u001b[0;34m:\u001b[0m\u001b[0;34m\u001b[0m\u001b[0;34m\u001b[0m\u001b[0m\n\u001b[0;32m--> 929\u001b[0;31m                 \u001b[0;32mreturn\u001b[0m \u001b[0mself\u001b[0m\u001b[0;34m.\u001b[0m\u001b[0m_sslobj\u001b[0m\u001b[0;34m.\u001b[0m\u001b[0mread\u001b[0m\u001b[0;34m(\u001b[0m\u001b[0mlen\u001b[0m\u001b[0;34m,\u001b[0m \u001b[0mbuffer\u001b[0m\u001b[0;34m)\u001b[0m\u001b[0;34m\u001b[0m\u001b[0;34m\u001b[0m\u001b[0m\n\u001b[0m\u001b[1;32m    930\u001b[0m             \u001b[0;32melse\u001b[0m\u001b[0;34m:\u001b[0m\u001b[0;34m\u001b[0m\u001b[0;34m\u001b[0m\u001b[0m\n\u001b[1;32m    931\u001b[0m                 \u001b[0;32mreturn\u001b[0m \u001b[0mself\u001b[0m\u001b[0;34m.\u001b[0m\u001b[0m_sslobj\u001b[0m\u001b[0;34m.\u001b[0m\u001b[0mread\u001b[0m\u001b[0;34m(\u001b[0m\u001b[0mlen\u001b[0m\u001b[0;34m)\u001b[0m\u001b[0;34m\u001b[0m\u001b[0;34m\u001b[0m\u001b[0m\n",
      "\u001b[0;31mKeyboardInterrupt\u001b[0m: "
     ]
    }
   ],
   "source": [
    "s_df = df[df['click_found'] == True]\n",
    "error_count_2 = 0\n",
    "for i in tqdm(range(len(s_df))):\n",
    "    row = s_df.iloc[i]\n",
    "    cookie = row['cookie_second']\n",
    "    \n",
    "    if len(cookie) == 0:\n",
    "        continue\n",
    "    else:\n",
    "        cookie = cookie[0]\n",
    "        name = cookie['name']\n",
    "        \n",
    "        if name in list(cookie_stats_2['name']):\n",
    "            continue\n",
    "        \n",
    "        url = 'https://cookiepedia.co.uk/cookies/' + name\n",
    "        \n",
    "        data = get_cookie_stats(url)\n",
    "        \n",
    "        if data == False:\n",
    "            error_count_2 += 1\n",
    "            continue\n",
    "            \n",
    "        ps = re.split('<p>|</p>', data)\n",
    "        matching = [p for p in ps if 'main purpose' in p]\n",
    "        usage = re.split('<strong>|</strong>', matching[0])[1]\n",
    "\n",
    "        stats = re.split('<div class=\"cookie-stats\">|</div>', data)[8]\n",
    "        stats = re.split('<span>|</span>', stats)\n",
    "        \n",
    "        for index in range(1,14,2):\n",
    "            stats[index] = int(stats[index].replace(',', ''))\n",
    "\n",
    "        c_s = []\n",
    "        if len(stats) > 13:\n",
    "            c_s.append(name)\n",
    "            c_s.append(usage)\n",
    "            c_s.append(int(stats[1])) \n",
    "            c_s.append(int(stats[3]))\n",
    "            c_s.append(int(stats[5]))\n",
    "            c_s.append(int(stats[7]))\n",
    "            c_s.append(int(stats[9]))\n",
    "            c_s.append(int(stats[11]))\n",
    "            c_s.append(int(stats[13]))\n",
    "            cookie_stats_2.loc[len(cookie_stats_2)] = c_s\n",
    "        else:\n",
    "            print(\"not enough\", name)"
   ]
  },
  {
   "cell_type": "code",
   "execution_count": 33,
   "metadata": {},
   "outputs": [
    {
     "data": {
      "text/html": [
       "<div>\n",
       "<style scoped>\n",
       "    .dataframe tbody tr th:only-of-type {\n",
       "        vertical-align: middle;\n",
       "    }\n",
       "\n",
       "    .dataframe tbody tr th {\n",
       "        vertical-align: top;\n",
       "    }\n",
       "\n",
       "    .dataframe thead th {\n",
       "        text-align: right;\n",
       "    }\n",
       "</style>\n",
       "<table border=\"1\" class=\"dataframe\">\n",
       "  <thead>\n",
       "    <tr style=\"text-align: right;\">\n",
       "      <th></th>\n",
       "      <th>name</th>\n",
       "      <th>use</th>\n",
       "      <th>websites</th>\n",
       "      <th>hosts</th>\n",
       "      <th>first_party</th>\n",
       "      <th>third_party</th>\n",
       "      <th>persistent</th>\n",
       "      <th>life_span</th>\n",
       "      <th>session</th>\n",
       "    </tr>\n",
       "  </thead>\n",
       "  <tbody>\n",
       "    <tr>\n",
       "      <th>0</th>\n",
       "      <td>_js_datr</td>\n",
       "      <td>Functionality</td>\n",
       "      <td>37</td>\n",
       "      <td>3</td>\n",
       "      <td>15</td>\n",
       "      <td>33</td>\n",
       "      <td>45</td>\n",
       "      <td>1018494</td>\n",
       "      <td>3</td>\n",
       "    </tr>\n",
       "    <tr>\n",
       "      <th>1</th>\n",
       "      <td>AMCV_14215E3D5995C57C0A495C55%40AdobeOrg</td>\n",
       "      <td>Targeting/Advertising</td>\n",
       "      <td>3696</td>\n",
       "      <td>2807</td>\n",
       "      <td>3693</td>\n",
       "      <td>487</td>\n",
       "      <td>4165</td>\n",
       "      <td>30155</td>\n",
       "      <td>15</td>\n",
       "    </tr>\n",
       "    <tr>\n",
       "      <th>2</th>\n",
       "      <td>OptanonConsent</td>\n",
       "      <td>Strictly Necessary</td>\n",
       "      <td>31357</td>\n",
       "      <td>28240</td>\n",
       "      <td>39175</td>\n",
       "      <td>14835</td>\n",
       "      <td>49635</td>\n",
       "      <td>3083</td>\n",
       "      <td>4375</td>\n",
       "    </tr>\n",
       "    <tr>\n",
       "      <th>3</th>\n",
       "      <td>__lotl</td>\n",
       "      <td>Targeting/Advertising</td>\n",
       "      <td>173</td>\n",
       "      <td>162</td>\n",
       "      <td>172</td>\n",
       "      <td>3</td>\n",
       "      <td>175</td>\n",
       "      <td>172</td>\n",
       "      <td>0</td>\n",
       "    </tr>\n",
       "    <tr>\n",
       "      <th>4</th>\n",
       "      <td>__auc</td>\n",
       "      <td>Targeting/Advertising</td>\n",
       "      <td>1762</td>\n",
       "      <td>460</td>\n",
       "      <td>503</td>\n",
       "      <td>1391</td>\n",
       "      <td>1894</td>\n",
       "      <td>2079</td>\n",
       "      <td>0</td>\n",
       "    </tr>\n",
       "    <tr>\n",
       "      <th>...</th>\n",
       "      <td>...</td>\n",
       "      <td>...</td>\n",
       "      <td>...</td>\n",
       "      <td>...</td>\n",
       "      <td>...</td>\n",
       "      <td>...</td>\n",
       "      <td>...</td>\n",
       "      <td>...</td>\n",
       "      <td>...</td>\n",
       "    </tr>\n",
       "    <tr>\n",
       "      <th>64</th>\n",
       "      <td>visitor_identity_assertion_token</td>\n",
       "      <td>Targeting/Advertising</td>\n",
       "      <td>2708</td>\n",
       "      <td>3331</td>\n",
       "      <td>4158</td>\n",
       "      <td>4479</td>\n",
       "      <td>7712</td>\n",
       "      <td>57443</td>\n",
       "      <td>925</td>\n",
       "    </tr>\n",
       "    <tr>\n",
       "      <th>65</th>\n",
       "      <td>_oklv</td>\n",
       "      <td>Strictly Necessary</td>\n",
       "      <td>657</td>\n",
       "      <td>644</td>\n",
       "      <td>668</td>\n",
       "      <td>213</td>\n",
       "      <td>2</td>\n",
       "      <td>0</td>\n",
       "      <td>879</td>\n",
       "    </tr>\n",
       "    <tr>\n",
       "      <th>66</th>\n",
       "      <td>_parsely_visitor</td>\n",
       "      <td>Functionality</td>\n",
       "      <td>823</td>\n",
       "      <td>602</td>\n",
       "      <td>706</td>\n",
       "      <td>179</td>\n",
       "      <td>881</td>\n",
       "      <td>423</td>\n",
       "      <td>4</td>\n",
       "    </tr>\n",
       "    <tr>\n",
       "      <th>67</th>\n",
       "      <td>CookieConsent</td>\n",
       "      <td>Strictly Necessary</td>\n",
       "      <td>2115</td>\n",
       "      <td>2092</td>\n",
       "      <td>144243</td>\n",
       "      <td>863</td>\n",
       "      <td>144997</td>\n",
       "      <td>15292</td>\n",
       "      <td>109</td>\n",
       "    </tr>\n",
       "    <tr>\n",
       "      <th>68</th>\n",
       "      <td>exp_csrf_token</td>\n",
       "      <td>Strictly Necessary</td>\n",
       "      <td>229</td>\n",
       "      <td>231</td>\n",
       "      <td>244</td>\n",
       "      <td>33</td>\n",
       "      <td>277</td>\n",
       "      <td>1457410</td>\n",
       "      <td>0</td>\n",
       "    </tr>\n",
       "  </tbody>\n",
       "</table>\n",
       "<p>69 rows × 9 columns</p>\n",
       "</div>"
      ],
      "text/plain": [
       "                                        name                    use websites  \\\n",
       "0                                   _js_datr          Functionality       37   \n",
       "1   AMCV_14215E3D5995C57C0A495C55%40AdobeOrg  Targeting/Advertising     3696   \n",
       "2                             OptanonConsent     Strictly Necessary    31357   \n",
       "3                                     __lotl  Targeting/Advertising      173   \n",
       "4                                      __auc  Targeting/Advertising     1762   \n",
       "..                                       ...                    ...      ...   \n",
       "64          visitor_identity_assertion_token  Targeting/Advertising     2708   \n",
       "65                                     _oklv     Strictly Necessary      657   \n",
       "66                          _parsely_visitor          Functionality      823   \n",
       "67                             CookieConsent     Strictly Necessary     2115   \n",
       "68                            exp_csrf_token     Strictly Necessary      229   \n",
       "\n",
       "    hosts first_party third_party persistent life_span session  \n",
       "0       3          15          33         45   1018494       3  \n",
       "1    2807        3693         487       4165     30155      15  \n",
       "2   28240       39175       14835      49635      3083    4375  \n",
       "3     162         172           3        175       172       0  \n",
       "4     460         503        1391       1894      2079       0  \n",
       "..    ...         ...         ...        ...       ...     ...  \n",
       "64   3331        4158        4479       7712     57443     925  \n",
       "65    644         668         213          2         0     879  \n",
       "66    602         706         179        881       423       4  \n",
       "67   2092      144243         863     144997     15292     109  \n",
       "68    231         244          33        277   1457410       0  \n",
       "\n",
       "[69 rows x 9 columns]"
      ]
     },
     "execution_count": 33,
     "metadata": {},
     "output_type": "execute_result"
    }
   ],
   "source": [
    "cookie_stats_2"
   ]
  },
  {
   "cell_type": "code",
   "execution_count": 35,
   "metadata": {},
   "outputs": [
    {
     "data": {
      "text/plain": [
       "<matplotlib.axes._subplots.AxesSubplot at 0x7f8fa83df650>"
      ]
     },
     "execution_count": 35,
     "metadata": {},
     "output_type": "execute_result"
    },
    {
     "data": {
      "image/png": "[encoded data removed]",
      "text/plain": [
       "<Figure size 432x288 with 1 Axes>"
      ]
     },
     "metadata": {
      "needs_background": "light"
     },
     "output_type": "display_data"
    }
   ],
   "source": [
    "sns.barplot(x=list(cookie_stats_2['name']), y=list(cookie_stats_2['websites']))"
   ]
  },
  {
   "cell_type": "code",
   "execution_count": 31,
   "metadata": {},
   "outputs": [
    {
     "name": "stdout",
     "output_type": "stream",
     "text": [
      "1\n",
      "3\n",
      "5\n",
      "7\n",
      "9\n",
      "11\n",
      "13\n"
     ]
    }
   ],
   "source": [
    "for i in range(1,14,2):\n",
    "    print(i)"
   ]
  },
  {
   "cell_type": "code",
   "execution_count": null,
   "metadata": {},
   "outputs": [],
   "source": []
  },
  {
   "cell_type": "code",
   "execution_count": null,
   "metadata": {},
   "outputs": [],
   "source": []
  },
  {
   "cell_type": "code",
   "execution_count": null,
   "metadata": {},
   "outputs": [],
   "source": []
  }
 ],
 "metadata": {
  "kernelspec": {
   "display_name": "Python 3",
   "language": "python",
   "name": "python3"
  },
  "language_info": {
   "codemirror_mode": {
    "name": "ipython",
    "version": 3
   },
   "file_extension": ".py",
   "mimetype": "text/x-python",
   "name": "python",
   "nbconvert_exporter": "python",
   "pygments_lexer": "ipython3",
   "version": "3.7.4"
  }
 },
 "nbformat": 4,
 "nbformat_minor": 4
}
